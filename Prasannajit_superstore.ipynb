{
 "cells": [
  {
   "attachments": {},
   "cell_type": "markdown",
   "id": "eb03ee50",
   "metadata": {},
   "source": [
    "# Importing necessary libraries"
   ]
  },
  {
   "cell_type": "code",
   "execution_count": 2,
   "id": "c4c097ce",
   "metadata": {},
   "outputs": [],
   "source": [
    "''' Author : Prasannajit Hota '''\n",
    "import pandas as pd\n",
    "import numpy as np\n",
    "import matplotlib.pyplot as plt\n",
    "import seaborn as sns\n"
   ]
  },
  {
   "attachments": {},
   "cell_type": "markdown",
   "id": "f0e4e0d5",
   "metadata": {},
   "source": [
    "# Reading CSV file"
   ]
  },
  {
   "cell_type": "code",
   "execution_count": 3,
   "id": "9349828a",
   "metadata": {
    "scrolled": true
   },
   "outputs": [
    {
     "data": {
      "text/html": [
       "<div>\n",
       "<style scoped>\n",
       "    .dataframe tbody tr th:only-of-type {\n",
       "        vertical-align: middle;\n",
       "    }\n",
       "\n",
       "    .dataframe tbody tr th {\n",
       "        vertical-align: top;\n",
       "    }\n",
       "\n",
       "    .dataframe thead th {\n",
       "        text-align: right;\n",
       "    }\n",
       "</style>\n",
       "<table border=\"1\" class=\"dataframe\">\n",
       "  <thead>\n",
       "    <tr style=\"text-align: right;\">\n",
       "      <th></th>\n",
       "      <th>Ship Mode</th>\n",
       "      <th>Segment</th>\n",
       "      <th>Country</th>\n",
       "      <th>City</th>\n",
       "      <th>State</th>\n",
       "      <th>Postal Code</th>\n",
       "      <th>Region</th>\n",
       "      <th>Category</th>\n",
       "      <th>Sub-Category</th>\n",
       "      <th>Sales</th>\n",
       "      <th>Quantity</th>\n",
       "      <th>Discount</th>\n",
       "      <th>Profit</th>\n",
       "    </tr>\n",
       "  </thead>\n",
       "  <tbody>\n",
       "    <tr>\n",
       "      <th>0</th>\n",
       "      <td>Second Class</td>\n",
       "      <td>Consumer</td>\n",
       "      <td>United States</td>\n",
       "      <td>Henderson</td>\n",
       "      <td>Kentucky</td>\n",
       "      <td>42420</td>\n",
       "      <td>South</td>\n",
       "      <td>Furniture</td>\n",
       "      <td>Bookcases</td>\n",
       "      <td>261.9600</td>\n",
       "      <td>2</td>\n",
       "      <td>0.00</td>\n",
       "      <td>41.9136</td>\n",
       "    </tr>\n",
       "    <tr>\n",
       "      <th>1</th>\n",
       "      <td>Second Class</td>\n",
       "      <td>Consumer</td>\n",
       "      <td>United States</td>\n",
       "      <td>Henderson</td>\n",
       "      <td>Kentucky</td>\n",
       "      <td>42420</td>\n",
       "      <td>South</td>\n",
       "      <td>Furniture</td>\n",
       "      <td>Chairs</td>\n",
       "      <td>731.9400</td>\n",
       "      <td>3</td>\n",
       "      <td>0.00</td>\n",
       "      <td>219.5820</td>\n",
       "    </tr>\n",
       "    <tr>\n",
       "      <th>2</th>\n",
       "      <td>Second Class</td>\n",
       "      <td>Corporate</td>\n",
       "      <td>United States</td>\n",
       "      <td>Los Angeles</td>\n",
       "      <td>California</td>\n",
       "      <td>90036</td>\n",
       "      <td>West</td>\n",
       "      <td>Office Supplies</td>\n",
       "      <td>Labels</td>\n",
       "      <td>14.6200</td>\n",
       "      <td>2</td>\n",
       "      <td>0.00</td>\n",
       "      <td>6.8714</td>\n",
       "    </tr>\n",
       "    <tr>\n",
       "      <th>3</th>\n",
       "      <td>Standard Class</td>\n",
       "      <td>Consumer</td>\n",
       "      <td>United States</td>\n",
       "      <td>Fort Lauderdale</td>\n",
       "      <td>Florida</td>\n",
       "      <td>33311</td>\n",
       "      <td>South</td>\n",
       "      <td>Furniture</td>\n",
       "      <td>Tables</td>\n",
       "      <td>957.5775</td>\n",
       "      <td>5</td>\n",
       "      <td>0.45</td>\n",
       "      <td>-383.0310</td>\n",
       "    </tr>\n",
       "    <tr>\n",
       "      <th>4</th>\n",
       "      <td>Standard Class</td>\n",
       "      <td>Consumer</td>\n",
       "      <td>United States</td>\n",
       "      <td>Fort Lauderdale</td>\n",
       "      <td>Florida</td>\n",
       "      <td>33311</td>\n",
       "      <td>South</td>\n",
       "      <td>Office Supplies</td>\n",
       "      <td>Storage</td>\n",
       "      <td>22.3680</td>\n",
       "      <td>2</td>\n",
       "      <td>0.20</td>\n",
       "      <td>2.5164</td>\n",
       "    </tr>\n",
       "  </tbody>\n",
       "</table>\n",
       "</div>"
      ],
      "text/plain": [
       "        Ship Mode    Segment        Country             City       State  \\\n",
       "0    Second Class   Consumer  United States        Henderson    Kentucky   \n",
       "1    Second Class   Consumer  United States        Henderson    Kentucky   \n",
       "2    Second Class  Corporate  United States      Los Angeles  California   \n",
       "3  Standard Class   Consumer  United States  Fort Lauderdale     Florida   \n",
       "4  Standard Class   Consumer  United States  Fort Lauderdale     Florida   \n",
       "\n",
       "   Postal Code Region         Category Sub-Category     Sales  Quantity  \\\n",
       "0        42420  South        Furniture    Bookcases  261.9600         2   \n",
       "1        42420  South        Furniture       Chairs  731.9400         3   \n",
       "2        90036   West  Office Supplies       Labels   14.6200         2   \n",
       "3        33311  South        Furniture       Tables  957.5775         5   \n",
       "4        33311  South  Office Supplies      Storage   22.3680         2   \n",
       "\n",
       "   Discount    Profit  \n",
       "0      0.00   41.9136  \n",
       "1      0.00  219.5820  \n",
       "2      0.00    6.8714  \n",
       "3      0.45 -383.0310  \n",
       "4      0.20    2.5164  "
      ]
     },
     "execution_count": 3,
     "metadata": {},
     "output_type": "execute_result"
    }
   ],
   "source": [
    "df= pd.read_csv(\"SuperStoreDataset.csv\")\n",
    "df.head()"
   ]
  },
  {
   "cell_type": "code",
   "execution_count": 4,
   "id": "397fd34f",
   "metadata": {},
   "outputs": [
    {
     "data": {
      "text/plain": [
       "(9994, 13)"
      ]
     },
     "execution_count": 4,
     "metadata": {},
     "output_type": "execute_result"
    }
   ],
   "source": [
    "# Checking the shape of the dataset\n",
    "df.shape"
   ]
  },
  {
   "cell_type": "code",
   "execution_count": 5,
   "id": "37d0241d",
   "metadata": {},
   "outputs": [
    {
     "data": {
      "text/plain": [
       "Index(['Ship Mode', 'Segment', 'Country', 'City', 'State', 'Postal Code',\n",
       "       'Region', 'Category', 'Sub-Category', 'Sales', 'Quantity', 'Discount',\n",
       "       'Profit'],\n",
       "      dtype='object')"
      ]
     },
     "execution_count": 5,
     "metadata": {},
     "output_type": "execute_result"
    }
   ],
   "source": [
    "# All COlumns \n",
    "df.columns"
   ]
  },
  {
   "cell_type": "code",
   "execution_count": 6,
   "id": "6c484509",
   "metadata": {},
   "outputs": [
    {
     "name": "stdout",
     "output_type": "stream",
     "text": [
      "<class 'pandas.core.frame.DataFrame'>\n",
      "RangeIndex: 9994 entries, 0 to 9993\n",
      "Data columns (total 13 columns):\n",
      " #   Column        Non-Null Count  Dtype  \n",
      "---  ------        --------------  -----  \n",
      " 0   Ship Mode     9994 non-null   object \n",
      " 1   Segment       9994 non-null   object \n",
      " 2   Country       9994 non-null   object \n",
      " 3   City          9994 non-null   object \n",
      " 4   State         9994 non-null   object \n",
      " 5   Postal Code   9994 non-null   int64  \n",
      " 6   Region        9994 non-null   object \n",
      " 7   Category      9994 non-null   object \n",
      " 8   Sub-Category  9994 non-null   object \n",
      " 9   Sales         9994 non-null   float64\n",
      " 10  Quantity      9994 non-null   int64  \n",
      " 11  Discount      9994 non-null   float64\n",
      " 12  Profit        9994 non-null   float64\n",
      "dtypes: float64(3), int64(2), object(8)\n",
      "memory usage: 1015.1+ KB\n"
     ]
    }
   ],
   "source": [
    "# Checking the info of the dataset\n",
    "df.info()"
   ]
  },
  {
   "cell_type": "code",
   "execution_count": 7,
   "id": "84a2c1a1",
   "metadata": {},
   "outputs": [
    {
     "data": {
      "text/plain": [
       "Ship Mode       0\n",
       "Segment         0\n",
       "Country         0\n",
       "City            0\n",
       "State           0\n",
       "Postal Code     0\n",
       "Region          0\n",
       "Category        0\n",
       "Sub-Category    0\n",
       "Sales           0\n",
       "Quantity        0\n",
       "Discount        0\n",
       "Profit          0\n",
       "dtype: int64"
      ]
     },
     "execution_count": 7,
     "metadata": {},
     "output_type": "execute_result"
    }
   ],
   "source": [
    "#null value cheaking\n",
    "df.isnull().sum()"
   ]
  },
  {
   "cell_type": "code",
   "execution_count": 8,
   "id": "ae39d963",
   "metadata": {},
   "outputs": [
    {
     "data": {
      "text/plain": [
       "(9977, 13)"
      ]
     },
     "execution_count": 8,
     "metadata": {},
     "output_type": "execute_result"
    }
   ],
   "source": [
    "# Deleting the duplicate values\n",
    "df=df.drop_duplicates()\n",
    "df.shape"
   ]
  },
  {
   "cell_type": "code",
   "execution_count": 9,
   "id": "aa4736e9",
   "metadata": {},
   "outputs": [
    {
     "data": {
      "text/plain": [
       "(9977, 12)"
      ]
     },
     "execution_count": 9,
     "metadata": {},
     "output_type": "execute_result"
    }
   ],
   "source": [
    "# Deleting the \"Postal\" Column\n",
    "df=df.drop([\"Postal Code\"],axis=1)\n",
    "df.shape"
   ]
  },
  {
   "attachments": {},
   "cell_type": "markdown",
   "id": "3cce77ac",
   "metadata": {},
   "source": [
    "###  unique elements"
   ]
  },
  {
   "cell_type": "code",
   "execution_count": 10,
   "id": "0e93ec42",
   "metadata": {},
   "outputs": [
    {
     "name": "stdout",
     "output_type": "stream",
     "text": [
      "['Furniture' 'Office Supplies' 'Technology']\n"
     ]
    }
   ],
   "source": [
    "# Category Column\n",
    "print(df['Category'].unique())"
   ]
  },
  {
   "cell_type": "code",
   "execution_count": 11,
   "id": "0bf76847",
   "metadata": {},
   "outputs": [
    {
     "name": "stdout",
     "output_type": "stream",
     "text": [
      "['Kentucky' 'California' 'Florida' 'North Carolina' 'Washington' 'Texas'\n",
      " 'Wisconsin' 'Utah' 'Nebraska' 'Pennsylvania' 'Illinois' 'Minnesota'\n",
      " 'Michigan' 'Delaware' 'Indiana' 'New York' 'Arizona' 'Virginia'\n",
      " 'Tennessee' 'Alabama' 'South Carolina' 'Oregon' 'Colorado' 'Iowa' 'Ohio'\n",
      " 'Missouri' 'Oklahoma' 'New Mexico' 'Louisiana' 'Connecticut' 'New Jersey'\n",
      " 'Massachusetts' 'Georgia' 'Nevada' 'Rhode Island' 'Mississippi'\n",
      " 'Arkansas' 'Montana' 'New Hampshire' 'Maryland' 'District of Columbia'\n",
      " 'Kansas' 'Vermont' 'Maine' 'South Dakota' 'Idaho' 'North Dakota'\n",
      " 'Wyoming' 'West Virginia']\n"
     ]
    }
   ],
   "source": [
    "# State Column\n",
    "print(df['State'].unique())"
   ]
  },
  {
   "cell_type": "code",
   "execution_count": 12,
   "id": "792c5e74",
   "metadata": {},
   "outputs": [
    {
     "data": {
      "text/plain": [
       "49"
      ]
     },
     "execution_count": 12,
     "metadata": {},
     "output_type": "execute_result"
    }
   ],
   "source": [
    "# Total no. of unique states\n",
    "no_of_states= df['State'].nunique()\n",
    "no_of_states"
   ]
  },
  {
   "cell_type": "code",
   "execution_count": 13,
   "id": "3ce3b505",
   "metadata": {},
   "outputs": [
    {
     "name": "stdout",
     "output_type": "stream",
     "text": [
      "['Bookcases' 'Chairs' 'Labels' 'Tables' 'Storage' 'Furnishings' 'Art'\n",
      " 'Phones' 'Binders' 'Appliances' 'Paper' 'Accessories' 'Envelopes'\n",
      " 'Fasteners' 'Supplies' 'Machines' 'Copiers']\n"
     ]
    }
   ],
   "source": [
    "# Sub-Category Column\n",
    "print(df['Sub-Category'].unique())"
   ]
  },
  {
   "cell_type": "code",
   "execution_count": 14,
   "id": "7613d2d0",
   "metadata": {},
   "outputs": [
    {
     "data": {
      "text/plain": [
       "17"
      ]
     },
     "execution_count": 14,
     "metadata": {},
     "output_type": "execute_result"
    }
   ],
   "source": [
    "# Total no. of Sub-Category\n",
    "no_of_SubCategory=df['Sub-Category'].nunique()\n",
    "no_of_SubCategory"
   ]
  },
  {
   "cell_type": "code",
   "execution_count": 15,
   "id": "21bcbd83",
   "metadata": {},
   "outputs": [
    {
     "name": "stdout",
     "output_type": "stream",
     "text": [
      "['Consumer' 'Corporate' 'Home Office']\n"
     ]
    }
   ],
   "source": [
    "# Segment Column\n",
    "print(df['Segment'].unique())"
   ]
  },
  {
   "cell_type": "code",
   "execution_count": 16,
   "id": "9c5b7edb",
   "metadata": {},
   "outputs": [
    {
     "data": {
      "text/plain": [
       "Consumer       5183\n",
       "Corporate      3015\n",
       "Home Office    1779\n",
       "Name: Segment, dtype: int64"
      ]
     },
     "execution_count": 16,
     "metadata": {},
     "output_type": "execute_result"
    }
   ],
   "source": [
    "df['Segment'].value_counts()"
   ]
  },
  {
   "cell_type": "code",
   "execution_count": 17,
   "id": "fae72821",
   "metadata": {},
   "outputs": [
    {
     "data": {
      "text/html": [
       "<div>\n",
       "<style scoped>\n",
       "    .dataframe tbody tr th:only-of-type {\n",
       "        vertical-align: middle;\n",
       "    }\n",
       "\n",
       "    .dataframe tbody tr th {\n",
       "        vertical-align: top;\n",
       "    }\n",
       "\n",
       "    .dataframe thead th {\n",
       "        text-align: right;\n",
       "    }\n",
       "</style>\n",
       "<table border=\"1\" class=\"dataframe\">\n",
       "  <thead>\n",
       "    <tr style=\"text-align: right;\">\n",
       "      <th></th>\n",
       "      <th>Sales</th>\n",
       "      <th>Quantity</th>\n",
       "      <th>Discount</th>\n",
       "      <th>Profit</th>\n",
       "    </tr>\n",
       "  </thead>\n",
       "  <tbody>\n",
       "    <tr>\n",
       "      <th>count</th>\n",
       "      <td>9977.000000</td>\n",
       "      <td>9977.000000</td>\n",
       "      <td>9977.000000</td>\n",
       "      <td>9977.00000</td>\n",
       "    </tr>\n",
       "    <tr>\n",
       "      <th>mean</th>\n",
       "      <td>230.148902</td>\n",
       "      <td>3.790719</td>\n",
       "      <td>0.156278</td>\n",
       "      <td>28.69013</td>\n",
       "    </tr>\n",
       "    <tr>\n",
       "      <th>std</th>\n",
       "      <td>623.721409</td>\n",
       "      <td>2.226657</td>\n",
       "      <td>0.206455</td>\n",
       "      <td>234.45784</td>\n",
       "    </tr>\n",
       "    <tr>\n",
       "      <th>min</th>\n",
       "      <td>0.444000</td>\n",
       "      <td>1.000000</td>\n",
       "      <td>0.000000</td>\n",
       "      <td>-6599.97800</td>\n",
       "    </tr>\n",
       "    <tr>\n",
       "      <th>25%</th>\n",
       "      <td>17.300000</td>\n",
       "      <td>2.000000</td>\n",
       "      <td>0.000000</td>\n",
       "      <td>1.72620</td>\n",
       "    </tr>\n",
       "    <tr>\n",
       "      <th>50%</th>\n",
       "      <td>54.816000</td>\n",
       "      <td>3.000000</td>\n",
       "      <td>0.200000</td>\n",
       "      <td>8.67100</td>\n",
       "    </tr>\n",
       "    <tr>\n",
       "      <th>75%</th>\n",
       "      <td>209.970000</td>\n",
       "      <td>5.000000</td>\n",
       "      <td>0.200000</td>\n",
       "      <td>29.37200</td>\n",
       "    </tr>\n",
       "    <tr>\n",
       "      <th>max</th>\n",
       "      <td>22638.480000</td>\n",
       "      <td>14.000000</td>\n",
       "      <td>0.800000</td>\n",
       "      <td>8399.97600</td>\n",
       "    </tr>\n",
       "  </tbody>\n",
       "</table>\n",
       "</div>"
      ],
      "text/plain": [
       "              Sales     Quantity     Discount      Profit\n",
       "count   9977.000000  9977.000000  9977.000000  9977.00000\n",
       "mean     230.148902     3.790719     0.156278    28.69013\n",
       "std      623.721409     2.226657     0.206455   234.45784\n",
       "min        0.444000     1.000000     0.000000 -6599.97800\n",
       "25%       17.300000     2.000000     0.000000     1.72620\n",
       "50%       54.816000     3.000000     0.200000     8.67100\n",
       "75%      209.970000     5.000000     0.200000    29.37200\n",
       "max    22638.480000    14.000000     0.800000  8399.97600"
      ]
     },
     "execution_count": 17,
     "metadata": {},
     "output_type": "execute_result"
    }
   ],
   "source": [
    "# Statistical description of the column\n",
    "df.describe()"
   ]
  },
  {
   "cell_type": "code",
   "execution_count": 18,
   "id": "f5740ead",
   "metadata": {},
   "outputs": [
    {
     "data": {
      "text/html": [
       "<div>\n",
       "<style scoped>\n",
       "    .dataframe tbody tr th:only-of-type {\n",
       "        vertical-align: middle;\n",
       "    }\n",
       "\n",
       "    .dataframe tbody tr th {\n",
       "        vertical-align: top;\n",
       "    }\n",
       "\n",
       "    .dataframe thead th {\n",
       "        text-align: right;\n",
       "    }\n",
       "</style>\n",
       "<table border=\"1\" class=\"dataframe\">\n",
       "  <thead>\n",
       "    <tr style=\"text-align: right;\">\n",
       "      <th></th>\n",
       "      <th>Ship Mode</th>\n",
       "      <th>Segment</th>\n",
       "      <th>Country</th>\n",
       "      <th>City</th>\n",
       "      <th>State</th>\n",
       "      <th>Region</th>\n",
       "      <th>Category</th>\n",
       "      <th>Sub-Category</th>\n",
       "      <th>Sales</th>\n",
       "      <th>Quantity</th>\n",
       "      <th>Discount</th>\n",
       "      <th>Profit</th>\n",
       "    </tr>\n",
       "  </thead>\n",
       "  <tbody>\n",
       "    <tr>\n",
       "      <th>3</th>\n",
       "      <td>Standard Class</td>\n",
       "      <td>Consumer</td>\n",
       "      <td>United States</td>\n",
       "      <td>Fort Lauderdale</td>\n",
       "      <td>Florida</td>\n",
       "      <td>South</td>\n",
       "      <td>Furniture</td>\n",
       "      <td>Tables</td>\n",
       "      <td>957.5775</td>\n",
       "      <td>5</td>\n",
       "      <td>0.45</td>\n",
       "      <td>-383.0310</td>\n",
       "    </tr>\n",
       "    <tr>\n",
       "      <th>14</th>\n",
       "      <td>Standard Class</td>\n",
       "      <td>Home Office</td>\n",
       "      <td>United States</td>\n",
       "      <td>Fort Worth</td>\n",
       "      <td>Texas</td>\n",
       "      <td>Central</td>\n",
       "      <td>Office Supplies</td>\n",
       "      <td>Appliances</td>\n",
       "      <td>68.8100</td>\n",
       "      <td>5</td>\n",
       "      <td>0.80</td>\n",
       "      <td>-123.8580</td>\n",
       "    </tr>\n",
       "    <tr>\n",
       "      <th>15</th>\n",
       "      <td>Standard Class</td>\n",
       "      <td>Home Office</td>\n",
       "      <td>United States</td>\n",
       "      <td>Fort Worth</td>\n",
       "      <td>Texas</td>\n",
       "      <td>Central</td>\n",
       "      <td>Office Supplies</td>\n",
       "      <td>Binders</td>\n",
       "      <td>2.5440</td>\n",
       "      <td>3</td>\n",
       "      <td>0.80</td>\n",
       "      <td>-3.8160</td>\n",
       "    </tr>\n",
       "    <tr>\n",
       "      <th>23</th>\n",
       "      <td>Second Class</td>\n",
       "      <td>Consumer</td>\n",
       "      <td>United States</td>\n",
       "      <td>Philadelphia</td>\n",
       "      <td>Pennsylvania</td>\n",
       "      <td>East</td>\n",
       "      <td>Furniture</td>\n",
       "      <td>Chairs</td>\n",
       "      <td>71.3720</td>\n",
       "      <td>2</td>\n",
       "      <td>0.30</td>\n",
       "      <td>-1.0196</td>\n",
       "    </tr>\n",
       "    <tr>\n",
       "      <th>27</th>\n",
       "      <td>Standard Class</td>\n",
       "      <td>Consumer</td>\n",
       "      <td>United States</td>\n",
       "      <td>Philadelphia</td>\n",
       "      <td>Pennsylvania</td>\n",
       "      <td>East</td>\n",
       "      <td>Furniture</td>\n",
       "      <td>Bookcases</td>\n",
       "      <td>3083.4300</td>\n",
       "      <td>7</td>\n",
       "      <td>0.50</td>\n",
       "      <td>-1665.0522</td>\n",
       "    </tr>\n",
       "    <tr>\n",
       "      <th>...</th>\n",
       "      <td>...</td>\n",
       "      <td>...</td>\n",
       "      <td>...</td>\n",
       "      <td>...</td>\n",
       "      <td>...</td>\n",
       "      <td>...</td>\n",
       "      <td>...</td>\n",
       "      <td>...</td>\n",
       "      <td>...</td>\n",
       "      <td>...</td>\n",
       "      <td>...</td>\n",
       "      <td>...</td>\n",
       "    </tr>\n",
       "    <tr>\n",
       "      <th>9920</th>\n",
       "      <td>Standard Class</td>\n",
       "      <td>Corporate</td>\n",
       "      <td>United States</td>\n",
       "      <td>Bryan</td>\n",
       "      <td>Texas</td>\n",
       "      <td>Central</td>\n",
       "      <td>Office Supplies</td>\n",
       "      <td>Binders</td>\n",
       "      <td>22.3860</td>\n",
       "      <td>7</td>\n",
       "      <td>0.80</td>\n",
       "      <td>-35.8176</td>\n",
       "    </tr>\n",
       "    <tr>\n",
       "      <th>9921</th>\n",
       "      <td>Standard Class</td>\n",
       "      <td>Home Office</td>\n",
       "      <td>United States</td>\n",
       "      <td>Akron</td>\n",
       "      <td>Ohio</td>\n",
       "      <td>East</td>\n",
       "      <td>Office Supplies</td>\n",
       "      <td>Binders</td>\n",
       "      <td>5.7420</td>\n",
       "      <td>3</td>\n",
       "      <td>0.70</td>\n",
       "      <td>-4.5936</td>\n",
       "    </tr>\n",
       "    <tr>\n",
       "      <th>9931</th>\n",
       "      <td>Standard Class</td>\n",
       "      <td>Consumer</td>\n",
       "      <td>United States</td>\n",
       "      <td>San Bernardino</td>\n",
       "      <td>California</td>\n",
       "      <td>West</td>\n",
       "      <td>Furniture</td>\n",
       "      <td>Bookcases</td>\n",
       "      <td>683.3320</td>\n",
       "      <td>4</td>\n",
       "      <td>0.15</td>\n",
       "      <td>-40.1960</td>\n",
       "    </tr>\n",
       "    <tr>\n",
       "      <th>9937</th>\n",
       "      <td>Second Class</td>\n",
       "      <td>Corporate</td>\n",
       "      <td>United States</td>\n",
       "      <td>Los Angeles</td>\n",
       "      <td>California</td>\n",
       "      <td>West</td>\n",
       "      <td>Furniture</td>\n",
       "      <td>Tables</td>\n",
       "      <td>71.0880</td>\n",
       "      <td>2</td>\n",
       "      <td>0.20</td>\n",
       "      <td>-1.7772</td>\n",
       "    </tr>\n",
       "    <tr>\n",
       "      <th>9962</th>\n",
       "      <td>First Class</td>\n",
       "      <td>Home Office</td>\n",
       "      <td>United States</td>\n",
       "      <td>Houston</td>\n",
       "      <td>Texas</td>\n",
       "      <td>Central</td>\n",
       "      <td>Furniture</td>\n",
       "      <td>Bookcases</td>\n",
       "      <td>383.4656</td>\n",
       "      <td>4</td>\n",
       "      <td>0.32</td>\n",
       "      <td>-67.6704</td>\n",
       "    </tr>\n",
       "  </tbody>\n",
       "</table>\n",
       "<p>1869 rows × 12 columns</p>\n",
       "</div>"
      ],
      "text/plain": [
       "           Ship Mode      Segment        Country             City  \\\n",
       "3     Standard Class     Consumer  United States  Fort Lauderdale   \n",
       "14    Standard Class  Home Office  United States       Fort Worth   \n",
       "15    Standard Class  Home Office  United States       Fort Worth   \n",
       "23      Second Class     Consumer  United States     Philadelphia   \n",
       "27    Standard Class     Consumer  United States     Philadelphia   \n",
       "...              ...          ...            ...              ...   \n",
       "9920  Standard Class    Corporate  United States            Bryan   \n",
       "9921  Standard Class  Home Office  United States            Akron   \n",
       "9931  Standard Class     Consumer  United States   San Bernardino   \n",
       "9937    Second Class    Corporate  United States      Los Angeles   \n",
       "9962     First Class  Home Office  United States          Houston   \n",
       "\n",
       "             State   Region         Category Sub-Category      Sales  \\\n",
       "3          Florida    South        Furniture       Tables   957.5775   \n",
       "14           Texas  Central  Office Supplies   Appliances    68.8100   \n",
       "15           Texas  Central  Office Supplies      Binders     2.5440   \n",
       "23    Pennsylvania     East        Furniture       Chairs    71.3720   \n",
       "27    Pennsylvania     East        Furniture    Bookcases  3083.4300   \n",
       "...            ...      ...              ...          ...        ...   \n",
       "9920         Texas  Central  Office Supplies      Binders    22.3860   \n",
       "9921          Ohio     East  Office Supplies      Binders     5.7420   \n",
       "9931    California     West        Furniture    Bookcases   683.3320   \n",
       "9937    California     West        Furniture       Tables    71.0880   \n",
       "9962         Texas  Central        Furniture    Bookcases   383.4656   \n",
       "\n",
       "      Quantity  Discount     Profit  \n",
       "3            5      0.45  -383.0310  \n",
       "14           5      0.80  -123.8580  \n",
       "15           3      0.80    -3.8160  \n",
       "23           2      0.30    -1.0196  \n",
       "27           7      0.50 -1665.0522  \n",
       "...        ...       ...        ...  \n",
       "9920         7      0.80   -35.8176  \n",
       "9921         3      0.70    -4.5936  \n",
       "9931         4      0.15   -40.1960  \n",
       "9937         2      0.20    -1.7772  \n",
       "9962         4      0.32   -67.6704  \n",
       "\n",
       "[1869 rows x 12 columns]"
      ]
     },
     "execution_count": 18,
     "metadata": {},
     "output_type": "execute_result"
    }
   ],
   "source": [
    "# dataset of those who are facing loss\n",
    "loss_df=df[df.Profit<0]\n",
    "loss_df"
   ]
  },
  {
   "cell_type": "code",
   "execution_count": 19,
   "id": "5445d741",
   "metadata": {},
   "outputs": [
    {
     "data": {
      "text/plain": [
       "(1869, 12)"
      ]
     },
     "execution_count": 19,
     "metadata": {},
     "output_type": "execute_result"
    }
   ],
   "source": [
    "# Checking the shape\n",
    "loss_df.shape"
   ]
  },
  {
   "attachments": {},
   "cell_type": "markdown",
   "id": "ed151efd",
   "metadata": {},
   "source": []
  },
  {
   "cell_type": "code",
   "execution_count": 20,
   "id": "aec2d176",
   "metadata": {},
   "outputs": [
    {
     "data": {
      "text/html": [
       "<div>\n",
       "<style scoped>\n",
       "    .dataframe tbody tr th:only-of-type {\n",
       "        vertical-align: middle;\n",
       "    }\n",
       "\n",
       "    .dataframe tbody tr th {\n",
       "        vertical-align: top;\n",
       "    }\n",
       "\n",
       "    .dataframe thead th {\n",
       "        text-align: right;\n",
       "    }\n",
       "</style>\n",
       "<table border=\"1\" class=\"dataframe\">\n",
       "  <thead>\n",
       "    <tr style=\"text-align: right;\">\n",
       "      <th></th>\n",
       "      <th>Sales</th>\n",
       "      <th>Quantity</th>\n",
       "      <th>Discount</th>\n",
       "      <th>Profit</th>\n",
       "    </tr>\n",
       "  </thead>\n",
       "  <tbody>\n",
       "    <tr>\n",
       "      <th>count</th>\n",
       "      <td>1869.000000</td>\n",
       "      <td>1869.000000</td>\n",
       "      <td>1869.000000</td>\n",
       "      <td>1869.000000</td>\n",
       "    </tr>\n",
       "    <tr>\n",
       "      <th>mean</th>\n",
       "      <td>250.627190</td>\n",
       "      <td>3.764045</td>\n",
       "      <td>0.480813</td>\n",
       "      <td>-83.527549</td>\n",
       "    </tr>\n",
       "    <tr>\n",
       "      <th>std</th>\n",
       "      <td>715.426811</td>\n",
       "      <td>2.142032</td>\n",
       "      <td>0.235053</td>\n",
       "      <td>284.565230</td>\n",
       "    </tr>\n",
       "    <tr>\n",
       "      <th>min</th>\n",
       "      <td>0.444000</td>\n",
       "      <td>1.000000</td>\n",
       "      <td>0.100000</td>\n",
       "      <td>-6599.978000</td>\n",
       "    </tr>\n",
       "    <tr>\n",
       "      <th>25%</th>\n",
       "      <td>12.544000</td>\n",
       "      <td>2.000000</td>\n",
       "      <td>0.200000</td>\n",
       "      <td>-58.687200</td>\n",
       "    </tr>\n",
       "    <tr>\n",
       "      <th>50%</th>\n",
       "      <td>71.088000</td>\n",
       "      <td>3.000000</td>\n",
       "      <td>0.400000</td>\n",
       "      <td>-18.106800</td>\n",
       "    </tr>\n",
       "    <tr>\n",
       "      <th>75%</th>\n",
       "      <td>285.480000</td>\n",
       "      <td>5.000000</td>\n",
       "      <td>0.700000</td>\n",
       "      <td>-6.286000</td>\n",
       "    </tr>\n",
       "    <tr>\n",
       "      <th>max</th>\n",
       "      <td>22638.480000</td>\n",
       "      <td>14.000000</td>\n",
       "      <td>0.800000</td>\n",
       "      <td>-0.089500</td>\n",
       "    </tr>\n",
       "  </tbody>\n",
       "</table>\n",
       "</div>"
      ],
      "text/plain": [
       "              Sales     Quantity     Discount       Profit\n",
       "count   1869.000000  1869.000000  1869.000000  1869.000000\n",
       "mean     250.627190     3.764045     0.480813   -83.527549\n",
       "std      715.426811     2.142032     0.235053   284.565230\n",
       "min        0.444000     1.000000     0.100000 -6599.978000\n",
       "25%       12.544000     2.000000     0.200000   -58.687200\n",
       "50%       71.088000     3.000000     0.400000   -18.106800\n",
       "75%      285.480000     5.000000     0.700000    -6.286000\n",
       "max    22638.480000    14.000000     0.800000    -0.089500"
      ]
     },
     "execution_count": 20,
     "metadata": {},
     "output_type": "execute_result"
    }
   ],
   "source": [
    "# Loss Dataset statistical description\n",
    "loss_df.describe()"
   ]
  },
  {
   "cell_type": "code",
   "execution_count": 21,
   "id": "7a1687ee",
   "metadata": {},
   "outputs": [
    {
     "name": "stdout",
     "output_type": "stream",
     "text": [
      "total_loss= 156112.99\n"
     ]
    }
   ],
   "source": [
    "# Suming up the total loss\n",
    "total_loss = np.negative(loss_df[\"Profit\"].sum())\n",
    "print(\"total_loss= %.2f\" %total_loss)"
   ]
  },
  {
   "attachments": {},
   "cell_type": "markdown",
   "id": "75ae40be",
   "metadata": {},
   "source": [
    "Discount results in loss."
   ]
  },
  {
   "cell_type": "code",
   "execution_count": 22,
   "id": "4781c76b",
   "metadata": {},
   "outputs": [
    {
     "data": {
      "text/html": [
       "<div>\n",
       "<style scoped>\n",
       "    .dataframe tbody tr th:only-of-type {\n",
       "        vertical-align: middle;\n",
       "    }\n",
       "\n",
       "    .dataframe tbody tr th {\n",
       "        vertical-align: top;\n",
       "    }\n",
       "\n",
       "    .dataframe thead th {\n",
       "        text-align: right;\n",
       "    }\n",
       "</style>\n",
       "<table border=\"1\" class=\"dataframe\">\n",
       "  <thead>\n",
       "    <tr style=\"text-align: right;\">\n",
       "      <th></th>\n",
       "      <th>Sales</th>\n",
       "      <th>Quantity</th>\n",
       "      <th>Discount</th>\n",
       "      <th>Profit</th>\n",
       "    </tr>\n",
       "    <tr>\n",
       "      <th>Sub-Category</th>\n",
       "      <th></th>\n",
       "      <th></th>\n",
       "      <th></th>\n",
       "      <th></th>\n",
       "    </tr>\n",
       "  </thead>\n",
       "  <tbody>\n",
       "    <tr>\n",
       "      <th>Accessories</th>\n",
       "      <td>10958.8000</td>\n",
       "      <td>330</td>\n",
       "      <td>18.20</td>\n",
       "      <td>-930.6265</td>\n",
       "    </tr>\n",
       "    <tr>\n",
       "      <th>Appliances</th>\n",
       "      <td>3382.5340</td>\n",
       "      <td>235</td>\n",
       "      <td>53.60</td>\n",
       "      <td>-8629.6412</td>\n",
       "    </tr>\n",
       "    <tr>\n",
       "      <th>Binders</th>\n",
       "      <td>36137.0490</td>\n",
       "      <td>2453</td>\n",
       "      <td>451.60</td>\n",
       "      <td>-38504.2594</td>\n",
       "    </tr>\n",
       "    <tr>\n",
       "      <th>Bookcases</th>\n",
       "      <td>48072.7408</td>\n",
       "      <td>422</td>\n",
       "      <td>37.99</td>\n",
       "      <td>-12152.2060</td>\n",
       "    </tr>\n",
       "    <tr>\n",
       "      <th>Chairs</th>\n",
       "      <td>91707.0840</td>\n",
       "      <td>874</td>\n",
       "      <td>61.10</td>\n",
       "      <td>-9868.7825</td>\n",
       "    </tr>\n",
       "    <tr>\n",
       "      <th>Fasteners</th>\n",
       "      <td>149.2800</td>\n",
       "      <td>55</td>\n",
       "      <td>2.40</td>\n",
       "      <td>-33.1952</td>\n",
       "    </tr>\n",
       "    <tr>\n",
       "      <th>Furnishings</th>\n",
       "      <td>12845.8440</td>\n",
       "      <td>597</td>\n",
       "      <td>88.60</td>\n",
       "      <td>-6490.9134</td>\n",
       "    </tr>\n",
       "    <tr>\n",
       "      <th>Machines</th>\n",
       "      <td>72456.2530</td>\n",
       "      <td>157</td>\n",
       "      <td>25.60</td>\n",
       "      <td>-30118.6682</td>\n",
       "    </tr>\n",
       "    <tr>\n",
       "      <th>Phones</th>\n",
       "      <td>35797.8400</td>\n",
       "      <td>476</td>\n",
       "      <td>46.60</td>\n",
       "      <td>-7530.6235</td>\n",
       "    </tr>\n",
       "    <tr>\n",
       "      <th>Storage</th>\n",
       "      <td>37869.0720</td>\n",
       "      <td>569</td>\n",
       "      <td>32.20</td>\n",
       "      <td>-6426.3038</td>\n",
       "    </tr>\n",
       "    <tr>\n",
       "      <th>Supplies</th>\n",
       "      <td>14067.1760</td>\n",
       "      <td>110</td>\n",
       "      <td>6.60</td>\n",
       "      <td>-3015.6219</td>\n",
       "    </tr>\n",
       "    <tr>\n",
       "      <th>Tables</th>\n",
       "      <td>104978.5460</td>\n",
       "      <td>757</td>\n",
       "      <td>74.15</td>\n",
       "      <td>-32412.1483</td>\n",
       "    </tr>\n",
       "  </tbody>\n",
       "</table>\n",
       "</div>"
      ],
      "text/plain": [
       "                    Sales  Quantity  Discount      Profit\n",
       "Sub-Category                                             \n",
       "Accessories    10958.8000       330     18.20   -930.6265\n",
       "Appliances      3382.5340       235     53.60  -8629.6412\n",
       "Binders        36137.0490      2453    451.60 -38504.2594\n",
       "Bookcases      48072.7408       422     37.99 -12152.2060\n",
       "Chairs         91707.0840       874     61.10  -9868.7825\n",
       "Fasteners        149.2800        55      2.40    -33.1952\n",
       "Furnishings    12845.8440       597     88.60  -6490.9134\n",
       "Machines       72456.2530       157     25.60 -30118.6682\n",
       "Phones         35797.8400       476     46.60  -7530.6235\n",
       "Storage        37869.0720       569     32.20  -6426.3038\n",
       "Supplies       14067.1760       110      6.60  -3015.6219\n",
       "Tables        104978.5460       757     74.15 -32412.1483"
      ]
     },
     "execution_count": 22,
     "metadata": {},
     "output_type": "execute_result"
    }
   ],
   "source": [
    "#loss is grouped by sub catagory\n",
    "loss_df.groupby(by='Sub-Category').sum()"
   ]
  },
  {
   "attachments": {},
   "cell_type": "markdown",
   "id": "29ad59f0",
   "metadata": {},
   "source": [
    "\n",
    "\n",
    "** binders sales is high so no discount is required\n",
    "\n",
    "** So better to give discounts on which are getting less sold so that even they will start getting sold more.\n",
    "\n"
   ]
  },
  {
   "cell_type": "code",
   "execution_count": 23,
   "id": "76800ea6",
   "metadata": {},
   "outputs": [
    {
     "data": {
      "text/plain": [
       "Binders        612\n",
       "Chairs         234\n",
       "Tables         203\n",
       "Furnishings    167\n",
       "Storage        161\n",
       "Phones         136\n",
       "Bookcases      109\n",
       "Accessories     91\n",
       "Appliances      67\n",
       "Machines        44\n",
       "Supplies        33\n",
       "Fasteners       12\n",
       "Name: Sub-Category, dtype: int64"
      ]
     },
     "execution_count": 23,
     "metadata": {},
     "output_type": "execute_result"
    }
   ],
   "source": [
    "loss_df['Sub-Category'].value_counts()"
   ]
  },
  {
   "cell_type": "code",
   "execution_count": 24,
   "id": "bcf39fa9",
   "metadata": {},
   "outputs": [
    {
     "data": {
      "text/html": [
       "<div>\n",
       "<style scoped>\n",
       "    .dataframe tbody tr th:only-of-type {\n",
       "        vertical-align: middle;\n",
       "    }\n",
       "\n",
       "    .dataframe tbody tr th {\n",
       "        vertical-align: top;\n",
       "    }\n",
       "\n",
       "    .dataframe thead th {\n",
       "        text-align: right;\n",
       "    }\n",
       "</style>\n",
       "<table border=\"1\" class=\"dataframe\">\n",
       "  <thead>\n",
       "    <tr style=\"text-align: right;\">\n",
       "      <th></th>\n",
       "      <th>Sales</th>\n",
       "      <th>Quantity</th>\n",
       "      <th>Discount</th>\n",
       "      <th>Profit</th>\n",
       "    </tr>\n",
       "    <tr>\n",
       "      <th>City</th>\n",
       "      <th></th>\n",
       "      <th></th>\n",
       "      <th></th>\n",
       "      <th></th>\n",
       "    </tr>\n",
       "  </thead>\n",
       "  <tbody>\n",
       "    <tr>\n",
       "      <th>Philadelphia</th>\n",
       "      <td>70460.5510</td>\n",
       "      <td>892</td>\n",
       "      <td>115.30</td>\n",
       "      <td>-19590.7411</td>\n",
       "    </tr>\n",
       "    <tr>\n",
       "      <th>Houston</th>\n",
       "      <td>37640.7304</td>\n",
       "      <td>683</td>\n",
       "      <td>104.14</td>\n",
       "      <td>-14785.3668</td>\n",
       "    </tr>\n",
       "    <tr>\n",
       "      <th>Chicago</th>\n",
       "      <td>19906.4480</td>\n",
       "      <td>538</td>\n",
       "      <td>87.40</td>\n",
       "      <td>-11114.3901</td>\n",
       "    </tr>\n",
       "    <tr>\n",
       "      <th>San Antonio</th>\n",
       "      <td>17395.1450</td>\n",
       "      <td>139</td>\n",
       "      <td>17.10</td>\n",
       "      <td>-7831.0254</td>\n",
       "    </tr>\n",
       "    <tr>\n",
       "      <th>Lancaster</th>\n",
       "      <td>7699.2420</td>\n",
       "      <td>71</td>\n",
       "      <td>9.40</td>\n",
       "      <td>-7632.4946</td>\n",
       "    </tr>\n",
       "    <tr>\n",
       "      <th>Burlington</th>\n",
       "      <td>12044.8740</td>\n",
       "      <td>19</td>\n",
       "      <td>2.00</td>\n",
       "      <td>-5999.3318</td>\n",
       "    </tr>\n",
       "    <tr>\n",
       "      <th>Dallas</th>\n",
       "      <td>9994.0562</td>\n",
       "      <td>280</td>\n",
       "      <td>39.30</td>\n",
       "      <td>-4208.5218</td>\n",
       "    </tr>\n",
       "    <tr>\n",
       "      <th>Jacksonville</th>\n",
       "      <td>31146.2710</td>\n",
       "      <td>154</td>\n",
       "      <td>18.85</td>\n",
       "      <td>-4059.9857</td>\n",
       "    </tr>\n",
       "    <tr>\n",
       "      <th>New York City</th>\n",
       "      <td>19533.8020</td>\n",
       "      <td>132</td>\n",
       "      <td>12.20</td>\n",
       "      <td>-3966.0226</td>\n",
       "    </tr>\n",
       "    <tr>\n",
       "      <th>Louisville</th>\n",
       "      <td>2884.7840</td>\n",
       "      <td>35</td>\n",
       "      <td>4.90</td>\n",
       "      <td>-3694.1045</td>\n",
       "    </tr>\n",
       "  </tbody>\n",
       "</table>\n",
       "</div>"
      ],
      "text/plain": [
       "                    Sales  Quantity  Discount      Profit\n",
       "City                                                     \n",
       "Philadelphia   70460.5510       892    115.30 -19590.7411\n",
       "Houston        37640.7304       683    104.14 -14785.3668\n",
       "Chicago        19906.4480       538     87.40 -11114.3901\n",
       "San Antonio    17395.1450       139     17.10  -7831.0254\n",
       "Lancaster       7699.2420        71      9.40  -7632.4946\n",
       "Burlington     12044.8740        19      2.00  -5999.3318\n",
       "Dallas          9994.0562       280     39.30  -4208.5218\n",
       "Jacksonville   31146.2710       154     18.85  -4059.9857\n",
       "New York City  19533.8020       132     12.20  -3966.0226\n",
       "Louisville      2884.7840        35      4.90  -3694.1045"
      ]
     },
     "execution_count": 24,
     "metadata": {},
     "output_type": "execute_result"
    }
   ],
   "source": [
    "#loss acording to city\n",
    "loss_df.groupby(by='City').sum().sort_values('Profit',ascending=True).head(10)"
   ]
  },
  {
   "attachments": {},
   "cell_type": "markdown",
   "id": "0740a910",
   "metadata": {},
   "source": []
  },
  {
   "cell_type": "code",
   "execution_count": null,
   "id": "d49543d4",
   "metadata": {},
   "outputs": [],
   "source": []
  },
  {
   "cell_type": "code",
   "execution_count": 25,
   "id": "570386b3",
   "metadata": {},
   "outputs": [
    {
     "data": {
      "text/html": [
       "<div>\n",
       "<style scoped>\n",
       "    .dataframe tbody tr th:only-of-type {\n",
       "        vertical-align: middle;\n",
       "    }\n",
       "\n",
       "    .dataframe tbody tr th {\n",
       "        vertical-align: top;\n",
       "    }\n",
       "\n",
       "    .dataframe thead th {\n",
       "        text-align: right;\n",
       "    }\n",
       "</style>\n",
       "<table border=\"1\" class=\"dataframe\">\n",
       "  <thead>\n",
       "    <tr style=\"text-align: right;\">\n",
       "      <th></th>\n",
       "      <th>Sales</th>\n",
       "      <th>Quantity</th>\n",
       "      <th>Discount</th>\n",
       "      <th>Profit</th>\n",
       "    </tr>\n",
       "    <tr>\n",
       "      <th>Category</th>\n",
       "      <th></th>\n",
       "      <th></th>\n",
       "      <th></th>\n",
       "      <th></th>\n",
       "    </tr>\n",
       "  </thead>\n",
       "  <tbody>\n",
       "    <tr>\n",
       "      <th>Furniture</th>\n",
       "      <td>361.296234</td>\n",
       "      <td>3.716690</td>\n",
       "      <td>0.367237</td>\n",
       "      <td>-85.447476</td>\n",
       "    </tr>\n",
       "    <tr>\n",
       "      <th>Office Supplies</th>\n",
       "      <td>103.508600</td>\n",
       "      <td>3.866667</td>\n",
       "      <td>0.617401</td>\n",
       "      <td>-63.964996</td>\n",
       "    </tr>\n",
       "    <tr>\n",
       "      <th>Technology</th>\n",
       "      <td>439.899974</td>\n",
       "      <td>3.553506</td>\n",
       "      <td>0.333579</td>\n",
       "      <td>-142.361322</td>\n",
       "    </tr>\n",
       "  </tbody>\n",
       "</table>\n",
       "</div>"
      ],
      "text/plain": [
       "                      Sales  Quantity  Discount      Profit\n",
       "Category                                                   \n",
       "Furniture        361.296234  3.716690  0.367237  -85.447476\n",
       "Office Supplies  103.508600  3.866667  0.617401  -63.964996\n",
       "Technology       439.899974  3.553506  0.333579 -142.361322"
      ]
     },
     "execution_count": 25,
     "metadata": {},
     "output_type": "execute_result"
    }
   ],
   "source": [
    "# mean of losses\n",
    "loss_df.sort_values(['Sales'],ascending=True).groupby(by='Category').mean()"
   ]
  },
  {
   "attachments": {},
   "cell_type": "markdown",
   "id": "6d09369c",
   "metadata": {},
   "source": [
    "Technology catagory leads to more loss"
   ]
  },
  {
   "cell_type": "code",
   "execution_count": 26,
   "id": "d3eefd4c",
   "metadata": {},
   "outputs": [
    {
     "data": {
      "text/plain": [
       "State\n",
       "North Dakota             919.910\n",
       "West Virginia           1209.824\n",
       "Maine                   1270.530\n",
       "South Dakota            1315.560\n",
       "Wyoming                 1603.136\n",
       "District of Columbia    2865.020\n",
       "Kansas                  2914.310\n",
       "Idaho                   4382.486\n",
       "Iowa                    4579.760\n",
       "New Mexico              4783.522\n",
       "Name: Sales, dtype: float64"
      ]
     },
     "execution_count": 26,
     "metadata": {},
     "output_type": "execute_result"
    }
   ],
   "source": [
    "# 10 least selling states\n",
    "df.groupby(['State']).sum()['Sales'].nsmallest(10)"
   ]
  },
  {
   "attachments": {},
   "cell_type": "markdown",
   "id": "e764ae76",
   "metadata": {},
   "source": [
    "These are the last 10 states where sales are very less."
   ]
  },
  {
   "cell_type": "code",
   "execution_count": 27,
   "id": "e54328f5",
   "metadata": {},
   "outputs": [
    {
     "data": {
      "text/html": [
       "<div>\n",
       "<style scoped>\n",
       "    .dataframe tbody tr th:only-of-type {\n",
       "        vertical-align: middle;\n",
       "    }\n",
       "\n",
       "    .dataframe tbody tr th {\n",
       "        vertical-align: top;\n",
       "    }\n",
       "\n",
       "    .dataframe thead th {\n",
       "        text-align: right;\n",
       "    }\n",
       "</style>\n",
       "<table border=\"1\" class=\"dataframe\">\n",
       "  <thead>\n",
       "    <tr style=\"text-align: right;\">\n",
       "      <th></th>\n",
       "      <th>Sales</th>\n",
       "      <th>Quantity</th>\n",
       "      <th>Discount</th>\n",
       "      <th>Profit</th>\n",
       "    </tr>\n",
       "    <tr>\n",
       "      <th>Segment</th>\n",
       "      <th></th>\n",
       "      <th></th>\n",
       "      <th></th>\n",
       "      <th></th>\n",
       "    </tr>\n",
       "  </thead>\n",
       "  <tbody>\n",
       "    <tr>\n",
       "      <th>Consumer</th>\n",
       "      <td>1.160833e+06</td>\n",
       "      <td>19497</td>\n",
       "      <td>820.51</td>\n",
       "      <td>134007.4413</td>\n",
       "    </tr>\n",
       "    <tr>\n",
       "      <th>Corporate</th>\n",
       "      <td>7.060701e+05</td>\n",
       "      <td>11591</td>\n",
       "      <td>476.85</td>\n",
       "      <td>91954.9798</td>\n",
       "    </tr>\n",
       "    <tr>\n",
       "      <th>Home Office</th>\n",
       "      <td>4.292927e+05</td>\n",
       "      <td>6732</td>\n",
       "      <td>261.83</td>\n",
       "      <td>60279.0015</td>\n",
       "    </tr>\n",
       "  </tbody>\n",
       "</table>\n",
       "</div>"
      ],
      "text/plain": [
       "                    Sales  Quantity  Discount       Profit\n",
       "Segment                                                   \n",
       "Consumer     1.160833e+06     19497    820.51  134007.4413\n",
       "Corporate    7.060701e+05     11591    476.85   91954.9798\n",
       "Home Office  4.292927e+05      6732    261.83   60279.0015"
      ]
     },
     "execution_count": 27,
     "metadata": {},
     "output_type": "execute_result"
    }
   ],
   "source": [
    "#calculating the sum of numbers\n",
    "df.sort_values(['Segment'], ascending=True).groupby(\"Segment\").sum()"
   ]
  },
  {
   "attachments": {},
   "cell_type": "markdown",
   "id": "c7837e69",
   "metadata": {},
   "source": [
    "Consumer sales are making most of the profits. but sale is less so marketing can help to boost sales"
   ]
  },
  {
   "cell_type": "code",
   "execution_count": 28,
   "id": "bee75afc",
   "metadata": {},
   "outputs": [
    {
     "data": {
      "text/html": [
       "<div>\n",
       "<style scoped>\n",
       "    .dataframe tbody tr th:only-of-type {\n",
       "        vertical-align: middle;\n",
       "    }\n",
       "\n",
       "    .dataframe tbody tr th {\n",
       "        vertical-align: top;\n",
       "    }\n",
       "\n",
       "    .dataframe thead th {\n",
       "        text-align: right;\n",
       "    }\n",
       "</style>\n",
       "<table border=\"1\" class=\"dataframe\">\n",
       "  <thead>\n",
       "    <tr style=\"text-align: right;\">\n",
       "      <th></th>\n",
       "      <th>Sales</th>\n",
       "      <th>Quantity</th>\n",
       "      <th>Discount</th>\n",
       "      <th>Profit</th>\n",
       "    </tr>\n",
       "    <tr>\n",
       "      <th>Region</th>\n",
       "      <th></th>\n",
       "      <th></th>\n",
       "      <th></th>\n",
       "      <th></th>\n",
       "    </tr>\n",
       "  </thead>\n",
       "  <tbody>\n",
       "    <tr>\n",
       "      <th>Central</th>\n",
       "      <td>500782.8528</td>\n",
       "      <td>8768</td>\n",
       "      <td>557.14</td>\n",
       "      <td>39655.8752</td>\n",
       "    </tr>\n",
       "    <tr>\n",
       "      <th>East</th>\n",
       "      <td>678435.1960</td>\n",
       "      <td>10609</td>\n",
       "      <td>413.50</td>\n",
       "      <td>91506.3092</td>\n",
       "    </tr>\n",
       "    <tr>\n",
       "      <th>South</th>\n",
       "      <td>391721.9050</td>\n",
       "      <td>6209</td>\n",
       "      <td>238.55</td>\n",
       "      <td>46749.4303</td>\n",
       "    </tr>\n",
       "    <tr>\n",
       "      <th>West</th>\n",
       "      <td>725255.6365</td>\n",
       "      <td>12234</td>\n",
       "      <td>350.00</td>\n",
       "      <td>108329.8079</td>\n",
       "    </tr>\n",
       "  </tbody>\n",
       "</table>\n",
       "</div>"
      ],
      "text/plain": [
       "               Sales  Quantity  Discount       Profit\n",
       "Region                                               \n",
       "Central  500782.8528      8768    557.14   39655.8752\n",
       "East     678435.1960     10609    413.50   91506.3092\n",
       "South    391721.9050      6209    238.55   46749.4303\n",
       "West     725255.6365     12234    350.00  108329.8079"
      ]
     },
     "execution_count": 28,
     "metadata": {},
     "output_type": "execute_result"
    }
   ],
   "source": [
    "# Sorting the Region  in ascending order and grouping by Region \n",
    "df.sort_values(['Region'], ascending=True).groupby(\"Region\").sum()"
   ]
  },
  {
   "attachments": {},
   "cell_type": "markdown",
   "id": "ecdb26c5",
   "metadata": {},
   "source": [
    "We have to focus on south region .and boost its sales for more profits"
   ]
  },
  {
   "attachments": {},
   "cell_type": "markdown",
   "id": "5a354308",
   "metadata": {},
   "source": [
    "# superstore analysis visualization"
   ]
  },
  {
   "attachments": {},
   "cell_type": "markdown",
   "id": "f880e715",
   "metadata": {},
   "source": [
    "### Bargraph "
   ]
  },
  {
   "cell_type": "code",
   "execution_count": 29,
   "id": "3c11ada5",
   "metadata": {
    "scrolled": true
   },
   "outputs": [
    {
     "data": {
      "text/plain": [
       "Text(0, 0.5, 'Sales')"
      ]
     },
     "execution_count": 29,
     "metadata": {},
     "output_type": "execute_result"
    },
    {
     "data": {
      "image/png": "[encoded data removed]",
      "text/plain": [
       "<Figure size 1080x360 with 1 Axes>"
      ]
     },
     "metadata": {
      "needs_background": "light"
     },
     "output_type": "display_data"
    }
   ],
   "source": [
    "\n",
    "plt.rcParams[\"figure.figsize\"]=(15,5)\n",
    "plt.bar(loss_df['Sub-Category'],loss_df['Sales'])\n",
    "plt.rcParams.update({\"font.size\":10})\n",
    "plt.xlabel('Sub_Category')\n",
    "plt.ylabel('Sales')"
   ]
  },
  {
   "attachments": {},
   "cell_type": "markdown",
   "id": "fed66701",
   "metadata": {},
   "source": [
    "sales of appliences and Accessories is very low."
   ]
  },
  {
   "cell_type": "code",
   "execution_count": 44,
   "id": "f1b3ad38",
   "metadata": {},
   "outputs": [
    {
     "data": {
      "image/png": "[encoded data removed]",
      "text/plain": [
       "<Figure size 2016x576 with 1 Axes>"
      ]
     },
     "metadata": {
      "needs_background": "light"
     },
     "output_type": "display_data"
    }
   ],
   "source": [
    "\n",
    "plt.rcParams['figure.figsize']=(28,8)\n",
    "plt.bar(df['Sub-Category'],df['Discount']);\n",
    "plt.rcParams.update({'font.size':14});\n",
    "plt.xlabel('Sub_Category');\n",
    "plt.ylabel('Discount');"
   ]
  },
  {
   "attachments": {},
   "cell_type": "markdown",
   "id": "bd5d6dad",
   "metadata": {},
   "source": [
    "Too much discount in binders.discounts needs to be lowered"
   ]
  },
  {
   "cell_type": "code",
   "execution_count": 32,
   "id": "cf340868",
   "metadata": {},
   "outputs": [
    {
     "data": {
      "image/png": "[encoded data removed]",
      "text/plain": [
       "<Figure size 720x576 with 1 Axes>"
      ]
     },
     "metadata": {
      "needs_background": "light"
     },
     "output_type": "display_data"
    }
   ],
   "source": [
    "\n",
    "plt.rcParams['figure.figsize']=(10,8)\n",
    "plt.bar(df['Ship Mode'],df['Sales']);\n",
    "plt.rcParams.update({'font.size':14});\n",
    "plt.xlabel('Ship Mode');\n",
    "plt.ylabel('Sales');"
   ]
  },
  {
   "attachments": {},
   "cell_type": "markdown",
   "id": "d4e031fd",
   "metadata": {},
   "source": [
    "### Barplot\n",
    "sales in standard class in ship mode is high."
   ]
  },
  {
   "cell_type": "code",
   "execution_count": 35,
   "id": "36c71f05",
   "metadata": {},
   "outputs": [
    {
     "data": {
      "text/plain": [
       "<AxesSubplot:xlabel='Sub-Category', ylabel='Profit'>"
      ]
     },
     "execution_count": 35,
     "metadata": {},
     "output_type": "execute_result"
    },
    {
     "data": {
      "image/png": "[encoded data removed]",
      "text/plain": [
       "<Figure size 2160x864 with 1 Axes>"
      ]
     },
     "metadata": {
      "needs_background": "light"
     },
     "output_type": "display_data"
    }
   ],
   "source": [
    "\n",
    "plt.figure(figsize=(30,12))\n",
    "sns.barplot(x=df[\"Sub-Category\"], y=df[\"Profit\"])"
   ]
  },
  {
   "attachments": {},
   "cell_type": "markdown",
   "id": "7f3187d6",
   "metadata": {},
   "source": [
    "profit in copiers is high and loss in tables is highest. so we need to improve the product catgory"
   ]
  },
  {
   "attachments": {},
   "cell_type": "markdown",
   "id": "ba42946e",
   "metadata": {},
   "source": [
    "### Countplot"
   ]
  },
  {
   "cell_type": "code",
   "execution_count": 105,
   "id": "f7c014ad",
   "metadata": {},
   "outputs": [
    {
     "data": {
      "image/png": "[encoded data removed]",
      "text/plain": [
       "<Figure size 720x360 with 1 Axes>"
      ]
     },
     "metadata": {
      "needs_background": "light"
     },
     "output_type": "display_data"
    }
   ],
   "source": [
    "\n",
    "plt.rcParams['figure.figsize']=(10,5)\n",
    "sns.countplot(x=df.Segment)\n",
    "plt.show();"
   ]
  },
  {
   "attachments": {},
   "cell_type": "markdown",
   "id": "13334db8",
   "metadata": {},
   "source": [
    "In the Home Office Segment improvement is needed."
   ]
  },
  {
   "cell_type": "code",
   "execution_count": 109,
   "id": "e34be8c6",
   "metadata": {},
   "outputs": [
    {
     "data": {
      "image/png": "[encoded data removed]",
      "text/plain": [
       "<Figure size 864x360 with 1 Axes>"
      ]
     },
     "metadata": {
      "needs_background": "light"
     },
     "output_type": "display_data"
    }
   ],
   "source": [
    "# Region Column\n",
    "plt.rcParams['figure.figsize']=(12,5)\n",
    "plt.rcParams.update({'font.size':12})\n",
    "sns.countplot(x='Region',data=df)\n",
    "plt.show()"
   ]
  },
  {
   "attachments": {},
   "cell_type": "markdown",
   "id": "b1517e60",
   "metadata": {},
   "source": [
    "South region has least sales and need improvement."
   ]
  },
  {
   "cell_type": "code",
   "execution_count": 112,
   "id": "c1970f88",
   "metadata": {},
   "outputs": [
    {
     "name": "stderr",
     "output_type": "stream",
     "text": [
      "C:\\Users\\myasu\\AppData\\Local\\Temp\\ipykernel_10100\\844973110.py:2: FutureWarning: Indexing with multiple keys (implicitly converted to a tuple of keys) will be deprecated, use a list instead.\n",
      "  df.groupby(\"Sub-Category\")[\"Profit\",\"Sales\"].agg([\"sum\"]).plot.bar()\n"
     ]
    },
    {
     "data": {
      "image/png": "[encoded data removed]",
      "text/plain": [
       "<Figure size 720x576 with 1 Axes>"
      ]
     },
     "metadata": {
      "needs_background": "light"
     },
     "output_type": "display_data"
    }
   ],
   "source": [
    "# provit,sales vs sub_catgory\n",
    "df.groupby(\"Sub-Category\")[\"Profit\",\"Sales\"].agg([\"sum\"]).plot.bar()\n",
    "plt.title(\"Profit vs Sales\")\n",
    "plt.rcParams[\"figure.figsize\"]=[10,8]\n",
    "plt.show()"
   ]
  },
  {
   "attachments": {},
   "cell_type": "markdown",
   "id": "360c0d32",
   "metadata": {},
   "source": [
    "copier is the most profitable.phones and chairs sale is too high\n",
    "\n",
    "tables are in loss"
   ]
  },
  {
   "cell_type": "code",
   "execution_count": 113,
   "id": "bc816bc4",
   "metadata": {},
   "outputs": [
    {
     "name": "stderr",
     "output_type": "stream",
     "text": [
      "C:\\Users\\myasu\\AppData\\Local\\Temp\\ipykernel_10100\\1865249277.py:2: FutureWarning: Indexing with multiple keys (implicitly converted to a tuple of keys) will be deprecated, use a list instead.\n",
      "  df.groupby(\"Region\")[\"Profit\",\"Sales\"].agg([\"sum\"]).plot.bar()\n"
     ]
    },
    {
     "data": {
      "image/png": "[encoded data removed]",
      "text/plain": [
       "<Figure size 720x576 with 1 Axes>"
      ]
     },
     "metadata": {
      "needs_background": "light"
     },
     "output_type": "display_data"
    }
   ],
   "source": [
    "# profit,sales vs region\n",
    "df.groupby(\"Region\")[\"Profit\",\"Sales\"].agg([\"sum\"]).plot.bar()\n",
    "plt.title(\"Profit vs Sales\")\n",
    "plt.rcParams[\"figure.figsize\"]=[10,8]\n",
    "plt.show()"
   ]
  },
  {
   "attachments": {},
   "cell_type": "markdown",
   "id": "8c9bc0f0",
   "metadata": {},
   "source": [
    "sales in east and west is high. \n",
    "profit in south is goos compared to sales but needs improvement in sales"
   ]
  },
  {
   "attachments": {},
   "cell_type": "markdown",
   "id": "60d4005c",
   "metadata": {},
   "source": [
    "### Lineplot"
   ]
  },
  {
   "cell_type": "code",
   "execution_count": 115,
   "id": "47464d13",
   "metadata": {},
   "outputs": [
    {
     "name": "stderr",
     "output_type": "stream",
     "text": [
      "C:\\Users\\myasu\\anaconda3\\lib\\site-packages\\seaborn\\_decorators.py:36: FutureWarning: Pass the following variables as keyword args: x, y. From version 0.12, the only valid positional argument will be `data`, and passing other arguments without an explicit keyword will result in an error or misinterpretation.\n",
      "  warnings.warn(\n"
     ]
    },
    {
     "data": {
      "text/plain": [
       "<AxesSubplot:xlabel='Discount', ylabel='Profit'>"
      ]
     },
     "execution_count": 115,
     "metadata": {},
     "output_type": "execute_result"
    },
    {
     "data": {
      "image/png": "[encoded data removed]",
      "text/plain": [
       "<Figure size 720x288 with 1 Axes>"
      ]
     },
     "metadata": {
      "needs_background": "light"
     },
     "output_type": "display_data"
    }
   ],
   "source": [
    "\n",
    "plt.figure(figsize=(10,4))\n",
    "sns.lineplot('Discount','Profit',data=df, color=\"r\",label=\"Discount\")"
   ]
  },
  {
   "attachments": {},
   "cell_type": "markdown",
   "id": "026aff3f",
   "metadata": {},
   "source": [
    "High disconts resuls in low profits."
   ]
  },
  {
   "cell_type": "code",
   "execution_count": 116,
   "id": "b3ed00c6",
   "metadata": {},
   "outputs": [
    {
     "data": {
      "text/html": [
       "<div>\n",
       "<style scoped>\n",
       "    .dataframe tbody tr th:only-of-type {\n",
       "        vertical-align: middle;\n",
       "    }\n",
       "\n",
       "    .dataframe tbody tr th {\n",
       "        vertical-align: top;\n",
       "    }\n",
       "\n",
       "    .dataframe thead th {\n",
       "        text-align: right;\n",
       "    }\n",
       "</style>\n",
       "<table border=\"1\" class=\"dataframe\">\n",
       "  <thead>\n",
       "    <tr style=\"text-align: right;\">\n",
       "      <th></th>\n",
       "      <th>Sales</th>\n",
       "      <th>Quantity</th>\n",
       "      <th>Discount</th>\n",
       "      <th>Profit</th>\n",
       "    </tr>\n",
       "  </thead>\n",
       "  <tbody>\n",
       "    <tr>\n",
       "      <th>Sales</th>\n",
       "      <td>1.000000</td>\n",
       "      <td>0.200722</td>\n",
       "      <td>-0.028311</td>\n",
       "      <td>0.479067</td>\n",
       "    </tr>\n",
       "    <tr>\n",
       "      <th>Quantity</th>\n",
       "      <td>0.200722</td>\n",
       "      <td>1.000000</td>\n",
       "      <td>0.008678</td>\n",
       "      <td>0.066211</td>\n",
       "    </tr>\n",
       "    <tr>\n",
       "      <th>Discount</th>\n",
       "      <td>-0.028311</td>\n",
       "      <td>0.008678</td>\n",
       "      <td>1.000000</td>\n",
       "      <td>-0.219662</td>\n",
       "    </tr>\n",
       "    <tr>\n",
       "      <th>Profit</th>\n",
       "      <td>0.479067</td>\n",
       "      <td>0.066211</td>\n",
       "      <td>-0.219662</td>\n",
       "      <td>1.000000</td>\n",
       "    </tr>\n",
       "  </tbody>\n",
       "</table>\n",
       "</div>"
      ],
      "text/plain": [
       "             Sales  Quantity  Discount    Profit\n",
       "Sales     1.000000  0.200722 -0.028311  0.479067\n",
       "Quantity  0.200722  1.000000  0.008678  0.066211\n",
       "Discount -0.028311  0.008678  1.000000 -0.219662\n",
       "Profit    0.479067  0.066211 -0.219662  1.000000"
      ]
     },
     "execution_count": 116,
     "metadata": {},
     "output_type": "execute_result"
    }
   ],
   "source": [
    "# Correlation\n",
    "df.corr()"
   ]
  },
  {
   "attachments": {},
   "cell_type": "markdown",
   "id": "d514f970",
   "metadata": {},
   "source": [
    "##  Heatmap Analysis\n",
    "increse in sales resuts in increse in profits\n",
    "increse in dicounts results in decrese in profits"
   ]
  },
  {
   "attachments": {},
   "cell_type": "markdown",
   "id": "39414194",
   "metadata": {},
   "source": [
    "## Statistical Summary "
   ]
  },
  {
   "cell_type": "code",
   "execution_count": 118,
   "id": "759dd546",
   "metadata": {},
   "outputs": [
    {
     "data": {
      "text/html": [
       "<div>\n",
       "<style scoped>\n",
       "    .dataframe tbody tr th:only-of-type {\n",
       "        vertical-align: middle;\n",
       "    }\n",
       "\n",
       "    .dataframe tbody tr th {\n",
       "        vertical-align: top;\n",
       "    }\n",
       "\n",
       "    .dataframe thead th {\n",
       "        text-align: right;\n",
       "    }\n",
       "</style>\n",
       "<table border=\"1\" class=\"dataframe\">\n",
       "  <thead>\n",
       "    <tr style=\"text-align: right;\">\n",
       "      <th></th>\n",
       "      <th>sum</th>\n",
       "      <th>min</th>\n",
       "      <th>max</th>\n",
       "      <th>mean</th>\n",
       "      <th>median</th>\n",
       "      <th>std</th>\n",
       "      <th>var</th>\n",
       "      <th>count</th>\n",
       "    </tr>\n",
       "    <tr>\n",
       "      <th>State</th>\n",
       "      <th></th>\n",
       "      <th></th>\n",
       "      <th></th>\n",
       "      <th></th>\n",
       "      <th></th>\n",
       "      <th></th>\n",
       "      <th></th>\n",
       "      <th></th>\n",
       "    </tr>\n",
       "  </thead>\n",
       "  <tbody>\n",
       "    <tr>\n",
       "      <th>Alabama</th>\n",
       "      <td>5786.8253</td>\n",
       "      <td>0.0000</td>\n",
       "      <td>1459.2000</td>\n",
       "      <td>94.865989</td>\n",
       "      <td>16.87500</td>\n",
       "      <td>210.901876</td>\n",
       "      <td>44479.601429</td>\n",
       "      <td>61</td>\n",
       "    </tr>\n",
       "    <tr>\n",
       "      <th>Arizona</th>\n",
       "      <td>-3427.9246</td>\n",
       "      <td>-814.4832</td>\n",
       "      <td>211.4955</td>\n",
       "      <td>-15.303235</td>\n",
       "      <td>2.53365</td>\n",
       "      <td>109.266267</td>\n",
       "      <td>11939.117124</td>\n",
       "      <td>224</td>\n",
       "    </tr>\n",
       "    <tr>\n",
       "      <th>Arkansas</th>\n",
       "      <td>4008.6871</td>\n",
       "      <td>1.4190</td>\n",
       "      <td>843.1706</td>\n",
       "      <td>66.811452</td>\n",
       "      <td>18.34080</td>\n",
       "      <td>123.249880</td>\n",
       "      <td>15190.532873</td>\n",
       "      <td>60</td>\n",
       "    </tr>\n",
       "    <tr>\n",
       "      <th>California</th>\n",
       "      <td>76330.7891</td>\n",
       "      <td>-325.5720</td>\n",
       "      <td>1906.4850</td>\n",
       "      <td>38.241878</td>\n",
       "      <td>13.33380</td>\n",
       "      <td>97.803399</td>\n",
       "      <td>9565.504848</td>\n",
       "      <td>1996</td>\n",
       "    </tr>\n",
       "    <tr>\n",
       "      <th>Colorado</th>\n",
       "      <td>-6527.8579</td>\n",
       "      <td>-3399.9800</td>\n",
       "      <td>247.9960</td>\n",
       "      <td>-35.867351</td>\n",
       "      <td>3.12480</td>\n",
       "      <td>276.424024</td>\n",
       "      <td>76410.240842</td>\n",
       "      <td>182</td>\n",
       "    </tr>\n",
       "    <tr>\n",
       "      <th>Connecticut</th>\n",
       "      <td>3511.4918</td>\n",
       "      <td>-15.5826</td>\n",
       "      <td>294.6710</td>\n",
       "      <td>42.823071</td>\n",
       "      <td>12.18310</td>\n",
       "      <td>66.138081</td>\n",
       "      <td>4374.245726</td>\n",
       "      <td>82</td>\n",
       "    </tr>\n",
       "    <tr>\n",
       "      <th>Delaware</th>\n",
       "      <td>9977.3748</td>\n",
       "      <td>-48.7839</td>\n",
       "      <td>5039.9856</td>\n",
       "      <td>103.930988</td>\n",
       "      <td>19.19700</td>\n",
       "      <td>518.953513</td>\n",
       "      <td>269312.749126</td>\n",
       "      <td>96</td>\n",
       "    </tr>\n",
       "    <tr>\n",
       "      <th>District of Columbia</th>\n",
       "      <td>1059.5893</td>\n",
       "      <td>4.4344</td>\n",
       "      <td>648.5624</td>\n",
       "      <td>105.958930</td>\n",
       "      <td>14.52720</td>\n",
       "      <td>213.461353</td>\n",
       "      <td>45565.749398</td>\n",
       "      <td>10</td>\n",
       "    </tr>\n",
       "    <tr>\n",
       "      <th>Florida</th>\n",
       "      <td>-3399.3017</td>\n",
       "      <td>-1811.0784</td>\n",
       "      <td>327.5922</td>\n",
       "      <td>-8.875461</td>\n",
       "      <td>2.93400</td>\n",
       "      <td>126.324165</td>\n",
       "      <td>15957.794770</td>\n",
       "      <td>383</td>\n",
       "    </tr>\n",
       "    <tr>\n",
       "      <th>Georgia</th>\n",
       "      <td>16250.0433</td>\n",
       "      <td>0.1134</td>\n",
       "      <td>3177.4750</td>\n",
       "      <td>88.315453</td>\n",
       "      <td>22.24690</td>\n",
       "      <td>283.026694</td>\n",
       "      <td>80104.109456</td>\n",
       "      <td>184</td>\n",
       "    </tr>\n",
       "    <tr>\n",
       "      <th>Idaho</th>\n",
       "      <td>826.7231</td>\n",
       "      <td>1.1151</td>\n",
       "      <td>259.5297</td>\n",
       "      <td>39.367767</td>\n",
       "      <td>14.70000</td>\n",
       "      <td>63.027976</td>\n",
       "      <td>3972.525785</td>\n",
       "      <td>21</td>\n",
       "    </tr>\n",
       "    <tr>\n",
       "      <th>Illinois</th>\n",
       "      <td>-12601.6500</td>\n",
       "      <td>-2929.4845</td>\n",
       "      <td>874.9875</td>\n",
       "      <td>-25.665275</td>\n",
       "      <td>-1.74400</td>\n",
       "      <td>175.872237</td>\n",
       "      <td>30931.043652</td>\n",
       "      <td>491</td>\n",
       "    </tr>\n",
       "    <tr>\n",
       "      <th>Indiana</th>\n",
       "      <td>18382.9363</td>\n",
       "      <td>0.0000</td>\n",
       "      <td>8399.9760</td>\n",
       "      <td>123.375411</td>\n",
       "      <td>18.76700</td>\n",
       "      <td>693.643105</td>\n",
       "      <td>481140.757367</td>\n",
       "      <td>149</td>\n",
       "    </tr>\n",
       "    <tr>\n",
       "      <th>Iowa</th>\n",
       "      <td>1183.8119</td>\n",
       "      <td>2.5920</td>\n",
       "      <td>394.2680</td>\n",
       "      <td>39.460397</td>\n",
       "      <td>13.93560</td>\n",
       "      <td>73.763444</td>\n",
       "      <td>5441.045702</td>\n",
       "      <td>30</td>\n",
       "    </tr>\n",
       "    <tr>\n",
       "      <th>Kansas</th>\n",
       "      <td>836.4435</td>\n",
       "      <td>1.7280</td>\n",
       "      <td>149.3820</td>\n",
       "      <td>34.851813</td>\n",
       "      <td>11.96880</td>\n",
       "      <td>42.619311</td>\n",
       "      <td>1816.405680</td>\n",
       "      <td>24</td>\n",
       "    </tr>\n",
       "    <tr>\n",
       "      <th>Kentucky</th>\n",
       "      <td>11199.6966</td>\n",
       "      <td>0.0000</td>\n",
       "      <td>1416.8000</td>\n",
       "      <td>80.573357</td>\n",
       "      <td>21.77280</td>\n",
       "      <td>171.126404</td>\n",
       "      <td>29284.246011</td>\n",
       "      <td>139</td>\n",
       "    </tr>\n",
       "    <tr>\n",
       "      <th>Louisiana</th>\n",
       "      <td>2196.1023</td>\n",
       "      <td>1.8672</td>\n",
       "      <td>346.0396</td>\n",
       "      <td>52.288150</td>\n",
       "      <td>15.65800</td>\n",
       "      <td>83.357777</td>\n",
       "      <td>6948.518922</td>\n",
       "      <td>42</td>\n",
       "    </tr>\n",
       "    <tr>\n",
       "      <th>Maine</th>\n",
       "      <td>454.4862</td>\n",
       "      <td>3.8822</td>\n",
       "      <td>131.3550</td>\n",
       "      <td>56.810775</td>\n",
       "      <td>30.73400</td>\n",
       "      <td>53.816911</td>\n",
       "      <td>2896.259868</td>\n",
       "      <td>8</td>\n",
       "    </tr>\n",
       "    <tr>\n",
       "      <th>Maryland</th>\n",
       "      <td>7031.1788</td>\n",
       "      <td>-47.1798</td>\n",
       "      <td>1270.9900</td>\n",
       "      <td>66.963608</td>\n",
       "      <td>23.68080</td>\n",
       "      <td>148.214655</td>\n",
       "      <td>21967.584011</td>\n",
       "      <td>105</td>\n",
       "    </tr>\n",
       "    <tr>\n",
       "      <th>Massachusetts</th>\n",
       "      <td>6785.5016</td>\n",
       "      <td>-297.6848</td>\n",
       "      <td>503.7822</td>\n",
       "      <td>50.262975</td>\n",
       "      <td>16.10960</td>\n",
       "      <td>94.386407</td>\n",
       "      <td>8908.793776</td>\n",
       "      <td>135</td>\n",
       "    </tr>\n",
       "    <tr>\n",
       "      <th>Michigan</th>\n",
       "      <td>24428.0903</td>\n",
       "      <td>0.0000</td>\n",
       "      <td>4946.3700</td>\n",
       "      <td>96.173584</td>\n",
       "      <td>24.01680</td>\n",
       "      <td>375.279834</td>\n",
       "      <td>140834.954100</td>\n",
       "      <td>254</td>\n",
       "    </tr>\n",
       "    <tr>\n",
       "      <th>Minnesota</th>\n",
       "      <td>10823.1874</td>\n",
       "      <td>0.0000</td>\n",
       "      <td>4630.4755</td>\n",
       "      <td>121.608847</td>\n",
       "      <td>16.80000</td>\n",
       "      <td>505.784116</td>\n",
       "      <td>255817.572102</td>\n",
       "      <td>89</td>\n",
       "    </tr>\n",
       "    <tr>\n",
       "      <th>Mississippi</th>\n",
       "      <td>3172.9762</td>\n",
       "      <td>0.0000</td>\n",
       "      <td>388.8128</td>\n",
       "      <td>59.867475</td>\n",
       "      <td>23.40000</td>\n",
       "      <td>80.793505</td>\n",
       "      <td>6527.590392</td>\n",
       "      <td>53</td>\n",
       "    </tr>\n",
       "    <tr>\n",
       "      <th>Missouri</th>\n",
       "      <td>6436.2105</td>\n",
       "      <td>2.2990</td>\n",
       "      <td>2302.9671</td>\n",
       "      <td>97.518341</td>\n",
       "      <td>15.66450</td>\n",
       "      <td>308.032711</td>\n",
       "      <td>94884.151220</td>\n",
       "      <td>66</td>\n",
       "    </tr>\n",
       "    <tr>\n",
       "      <th>Montana</th>\n",
       "      <td>1833.3285</td>\n",
       "      <td>2.2098</td>\n",
       "      <td>1379.9770</td>\n",
       "      <td>122.221900</td>\n",
       "      <td>13.93920</td>\n",
       "      <td>350.364144</td>\n",
       "      <td>122755.033590</td>\n",
       "      <td>15</td>\n",
       "    </tr>\n",
       "    <tr>\n",
       "      <th>Nebraska</th>\n",
       "      <td>2037.0942</td>\n",
       "      <td>0.2016</td>\n",
       "      <td>743.9880</td>\n",
       "      <td>53.607742</td>\n",
       "      <td>10.47770</td>\n",
       "      <td>133.163393</td>\n",
       "      <td>17732.489334</td>\n",
       "      <td>38</td>\n",
       "    </tr>\n",
       "    <tr>\n",
       "      <th>Nevada</th>\n",
       "      <td>3316.7659</td>\n",
       "      <td>-109.5822</td>\n",
       "      <td>1644.2913</td>\n",
       "      <td>85.045279</td>\n",
       "      <td>23.80800</td>\n",
       "      <td>265.901543</td>\n",
       "      <td>70703.630825</td>\n",
       "      <td>39</td>\n",
       "    </tr>\n",
       "    <tr>\n",
       "      <th>New Hampshire</th>\n",
       "      <td>1706.5028</td>\n",
       "      <td>-105.3164</td>\n",
       "      <td>517.4793</td>\n",
       "      <td>63.203807</td>\n",
       "      <td>17.22000</td>\n",
       "      <td>119.893107</td>\n",
       "      <td>14374.357098</td>\n",
       "      <td>27</td>\n",
       "    </tr>\n",
       "    <tr>\n",
       "      <th>New Jersey</th>\n",
       "      <td>9772.9138</td>\n",
       "      <td>-31.3722</td>\n",
       "      <td>2365.9818</td>\n",
       "      <td>75.176260</td>\n",
       "      <td>18.81120</td>\n",
       "      <td>236.387912</td>\n",
       "      <td>55879.245021</td>\n",
       "      <td>130</td>\n",
       "    </tr>\n",
       "    <tr>\n",
       "      <th>New Mexico</th>\n",
       "      <td>1157.1161</td>\n",
       "      <td>-5.6943</td>\n",
       "      <td>138.3552</td>\n",
       "      <td>31.273408</td>\n",
       "      <td>13.34800</td>\n",
       "      <td>39.290011</td>\n",
       "      <td>1543.704967</td>\n",
       "      <td>37</td>\n",
       "    </tr>\n",
       "    <tr>\n",
       "      <th>New York</th>\n",
       "      <td>74015.4622</td>\n",
       "      <td>-553.6476</td>\n",
       "      <td>3919.9888</td>\n",
       "      <td>65.674767</td>\n",
       "      <td>13.79640</td>\n",
       "      <td>232.640276</td>\n",
       "      <td>54121.497857</td>\n",
       "      <td>1127</td>\n",
       "    </tr>\n",
       "    <tr>\n",
       "      <th>North Carolina</th>\n",
       "      <td>-7490.9122</td>\n",
       "      <td>-3839.9904</td>\n",
       "      <td>303.8040</td>\n",
       "      <td>-30.083985</td>\n",
       "      <td>3.95920</td>\n",
       "      <td>297.900997</td>\n",
       "      <td>88745.003951</td>\n",
       "      <td>249</td>\n",
       "    </tr>\n",
       "    <tr>\n",
       "      <th>North Dakota</th>\n",
       "      <td>230.1497</td>\n",
       "      <td>0.8680</td>\n",
       "      <td>162.0948</td>\n",
       "      <td>32.878529</td>\n",
       "      <td>8.29440</td>\n",
       "      <td>58.123254</td>\n",
       "      <td>3378.312671</td>\n",
       "      <td>7</td>\n",
       "    </tr>\n",
       "    <tr>\n",
       "      <th>Ohio</th>\n",
       "      <td>-16959.3178</td>\n",
       "      <td>-6599.9780</td>\n",
       "      <td>607.6080</td>\n",
       "      <td>-36.237859</td>\n",
       "      <td>1.24590</td>\n",
       "      <td>341.709917</td>\n",
       "      <td>116765.667104</td>\n",
       "      <td>468</td>\n",
       "    </tr>\n",
       "    <tr>\n",
       "      <th>Oklahoma</th>\n",
       "      <td>4853.9560</td>\n",
       "      <td>0.5520</td>\n",
       "      <td>523.7052</td>\n",
       "      <td>73.544788</td>\n",
       "      <td>23.53605</td>\n",
       "      <td>109.026519</td>\n",
       "      <td>11886.781743</td>\n",
       "      <td>66</td>\n",
       "    </tr>\n",
       "    <tr>\n",
       "      <th>Oregon</th>\n",
       "      <td>-1194.0993</td>\n",
       "      <td>-384.7164</td>\n",
       "      <td>228.0792</td>\n",
       "      <td>-9.708124</td>\n",
       "      <td>3.62880</td>\n",
       "      <td>74.744861</td>\n",
       "      <td>5586.794191</td>\n",
       "      <td>123</td>\n",
       "    </tr>\n",
       "    <tr>\n",
       "      <th>Pennsylvania</th>\n",
       "      <td>-15565.4035</td>\n",
       "      <td>-1665.0522</td>\n",
       "      <td>1119.9968</td>\n",
       "      <td>-26.562122</td>\n",
       "      <td>0.54685</td>\n",
       "      <td>136.404709</td>\n",
       "      <td>18606.244705</td>\n",
       "      <td>586</td>\n",
       "    </tr>\n",
       "    <tr>\n",
       "      <th>Rhode Island</th>\n",
       "      <td>7285.6293</td>\n",
       "      <td>-127.5792</td>\n",
       "      <td>2591.9568</td>\n",
       "      <td>130.100523</td>\n",
       "      <td>18.34850</td>\n",
       "      <td>384.816449</td>\n",
       "      <td>148083.699355</td>\n",
       "      <td>56</td>\n",
       "    </tr>\n",
       "    <tr>\n",
       "      <th>South Carolina</th>\n",
       "      <td>1769.0566</td>\n",
       "      <td>0.5584</td>\n",
       "      <td>422.5100</td>\n",
       "      <td>42.120395</td>\n",
       "      <td>17.99600</td>\n",
       "      <td>73.698963</td>\n",
       "      <td>5431.537207</td>\n",
       "      <td>42</td>\n",
       "    </tr>\n",
       "    <tr>\n",
       "      <th>South Dakota</th>\n",
       "      <td>394.8283</td>\n",
       "      <td>1.3068</td>\n",
       "      <td>132.5898</td>\n",
       "      <td>32.902358</td>\n",
       "      <td>14.85905</td>\n",
       "      <td>43.803938</td>\n",
       "      <td>1918.784959</td>\n",
       "      <td>12</td>\n",
       "    </tr>\n",
       "    <tr>\n",
       "      <th>Tennessee</th>\n",
       "      <td>-5341.6936</td>\n",
       "      <td>-1237.8462</td>\n",
       "      <td>223.9936</td>\n",
       "      <td>-29.189583</td>\n",
       "      <td>2.33640</td>\n",
       "      <td>176.636392</td>\n",
       "      <td>31200.415012</td>\n",
       "      <td>183</td>\n",
       "    </tr>\n",
       "    <tr>\n",
       "      <th>Texas</th>\n",
       "      <td>-25750.9833</td>\n",
       "      <td>-3701.8928</td>\n",
       "      <td>624.9875</td>\n",
       "      <td>-26.196321</td>\n",
       "      <td>0.00000</td>\n",
       "      <td>189.207658</td>\n",
       "      <td>35799.538016</td>\n",
       "      <td>983</td>\n",
       "    </tr>\n",
       "    <tr>\n",
       "      <th>Utah</th>\n",
       "      <td>2546.5335</td>\n",
       "      <td>0.2016</td>\n",
       "      <td>449.9850</td>\n",
       "      <td>48.047802</td>\n",
       "      <td>13.03750</td>\n",
       "      <td>83.929399</td>\n",
       "      <td>7044.143964</td>\n",
       "      <td>53</td>\n",
       "    </tr>\n",
       "    <tr>\n",
       "      <th>Vermont</th>\n",
       "      <td>2244.9783</td>\n",
       "      <td>0.9588</td>\n",
       "      <td>1013.1270</td>\n",
       "      <td>204.088936</td>\n",
       "      <td>67.65990</td>\n",
       "      <td>301.653921</td>\n",
       "      <td>90995.087755</td>\n",
       "      <td>11</td>\n",
       "    </tr>\n",
       "    <tr>\n",
       "      <th>Virginia</th>\n",
       "      <td>18597.9504</td>\n",
       "      <td>0.0000</td>\n",
       "      <td>2799.9840</td>\n",
       "      <td>83.026564</td>\n",
       "      <td>19.18125</td>\n",
       "      <td>235.266720</td>\n",
       "      <td>55350.429592</td>\n",
       "      <td>224</td>\n",
       "    </tr>\n",
       "    <tr>\n",
       "      <th>Washington</th>\n",
       "      <td>33368.2375</td>\n",
       "      <td>-73.0548</td>\n",
       "      <td>6719.9808</td>\n",
       "      <td>66.470593</td>\n",
       "      <td>13.48950</td>\n",
       "      <td>326.560751</td>\n",
       "      <td>106641.923823</td>\n",
       "      <td>502</td>\n",
       "    </tr>\n",
       "    <tr>\n",
       "      <th>West Virginia</th>\n",
       "      <td>185.9216</td>\n",
       "      <td>-76.9536</td>\n",
       "      <td>219.4416</td>\n",
       "      <td>46.480400</td>\n",
       "      <td>21.71680</td>\n",
       "      <td>125.265494</td>\n",
       "      <td>15691.444107</td>\n",
       "      <td>4</td>\n",
       "    </tr>\n",
       "    <tr>\n",
       "      <th>Wisconsin</th>\n",
       "      <td>8401.8004</td>\n",
       "      <td>0.2598</td>\n",
       "      <td>673.8816</td>\n",
       "      <td>76.380004</td>\n",
       "      <td>25.10085</td>\n",
       "      <td>124.946125</td>\n",
       "      <td>15611.534206</td>\n",
       "      <td>110</td>\n",
       "    </tr>\n",
       "    <tr>\n",
       "      <th>Wyoming</th>\n",
       "      <td>100.1960</td>\n",
       "      <td>100.1960</td>\n",
       "      <td>100.1960</td>\n",
       "      <td>100.196000</td>\n",
       "      <td>100.19600</td>\n",
       "      <td>NaN</td>\n",
       "      <td>NaN</td>\n",
       "      <td>1</td>\n",
       "    </tr>\n",
       "  </tbody>\n",
       "</table>\n",
       "</div>"
      ],
      "text/plain": [
       "                             sum        min        max        mean     median  \\\n",
       "State                                                                           \n",
       "Alabama                5786.8253     0.0000  1459.2000   94.865989   16.87500   \n",
       "Arizona               -3427.9246  -814.4832   211.4955  -15.303235    2.53365   \n",
       "Arkansas               4008.6871     1.4190   843.1706   66.811452   18.34080   \n",
       "California            76330.7891  -325.5720  1906.4850   38.241878   13.33380   \n",
       "Colorado              -6527.8579 -3399.9800   247.9960  -35.867351    3.12480   \n",
       "Connecticut            3511.4918   -15.5826   294.6710   42.823071   12.18310   \n",
       "Delaware               9977.3748   -48.7839  5039.9856  103.930988   19.19700   \n",
       "District of Columbia   1059.5893     4.4344   648.5624  105.958930   14.52720   \n",
       "Florida               -3399.3017 -1811.0784   327.5922   -8.875461    2.93400   \n",
       "Georgia               16250.0433     0.1134  3177.4750   88.315453   22.24690   \n",
       "Idaho                   826.7231     1.1151   259.5297   39.367767   14.70000   \n",
       "Illinois             -12601.6500 -2929.4845   874.9875  -25.665275   -1.74400   \n",
       "Indiana               18382.9363     0.0000  8399.9760  123.375411   18.76700   \n",
       "Iowa                   1183.8119     2.5920   394.2680   39.460397   13.93560   \n",
       "Kansas                  836.4435     1.7280   149.3820   34.851813   11.96880   \n",
       "Kentucky              11199.6966     0.0000  1416.8000   80.573357   21.77280   \n",
       "Louisiana              2196.1023     1.8672   346.0396   52.288150   15.65800   \n",
       "Maine                   454.4862     3.8822   131.3550   56.810775   30.73400   \n",
       "Maryland               7031.1788   -47.1798  1270.9900   66.963608   23.68080   \n",
       "Massachusetts          6785.5016  -297.6848   503.7822   50.262975   16.10960   \n",
       "Michigan              24428.0903     0.0000  4946.3700   96.173584   24.01680   \n",
       "Minnesota             10823.1874     0.0000  4630.4755  121.608847   16.80000   \n",
       "Mississippi            3172.9762     0.0000   388.8128   59.867475   23.40000   \n",
       "Missouri               6436.2105     2.2990  2302.9671   97.518341   15.66450   \n",
       "Montana                1833.3285     2.2098  1379.9770  122.221900   13.93920   \n",
       "Nebraska               2037.0942     0.2016   743.9880   53.607742   10.47770   \n",
       "Nevada                 3316.7659  -109.5822  1644.2913   85.045279   23.80800   \n",
       "New Hampshire          1706.5028  -105.3164   517.4793   63.203807   17.22000   \n",
       "New Jersey             9772.9138   -31.3722  2365.9818   75.176260   18.81120   \n",
       "New Mexico             1157.1161    -5.6943   138.3552   31.273408   13.34800   \n",
       "New York              74015.4622  -553.6476  3919.9888   65.674767   13.79640   \n",
       "North Carolina        -7490.9122 -3839.9904   303.8040  -30.083985    3.95920   \n",
       "North Dakota            230.1497     0.8680   162.0948   32.878529    8.29440   \n",
       "Ohio                 -16959.3178 -6599.9780   607.6080  -36.237859    1.24590   \n",
       "Oklahoma               4853.9560     0.5520   523.7052   73.544788   23.53605   \n",
       "Oregon                -1194.0993  -384.7164   228.0792   -9.708124    3.62880   \n",
       "Pennsylvania         -15565.4035 -1665.0522  1119.9968  -26.562122    0.54685   \n",
       "Rhode Island           7285.6293  -127.5792  2591.9568  130.100523   18.34850   \n",
       "South Carolina         1769.0566     0.5584   422.5100   42.120395   17.99600   \n",
       "South Dakota            394.8283     1.3068   132.5898   32.902358   14.85905   \n",
       "Tennessee             -5341.6936 -1237.8462   223.9936  -29.189583    2.33640   \n",
       "Texas                -25750.9833 -3701.8928   624.9875  -26.196321    0.00000   \n",
       "Utah                   2546.5335     0.2016   449.9850   48.047802   13.03750   \n",
       "Vermont                2244.9783     0.9588  1013.1270  204.088936   67.65990   \n",
       "Virginia              18597.9504     0.0000  2799.9840   83.026564   19.18125   \n",
       "Washington            33368.2375   -73.0548  6719.9808   66.470593   13.48950   \n",
       "West Virginia           185.9216   -76.9536   219.4416   46.480400   21.71680   \n",
       "Wisconsin              8401.8004     0.2598   673.8816   76.380004   25.10085   \n",
       "Wyoming                 100.1960   100.1960   100.1960  100.196000  100.19600   \n",
       "\n",
       "                             std            var  count  \n",
       "State                                                   \n",
       "Alabama               210.901876   44479.601429     61  \n",
       "Arizona               109.266267   11939.117124    224  \n",
       "Arkansas              123.249880   15190.532873     60  \n",
       "California             97.803399    9565.504848   1996  \n",
       "Colorado              276.424024   76410.240842    182  \n",
       "Connecticut            66.138081    4374.245726     82  \n",
       "Delaware              518.953513  269312.749126     96  \n",
       "District of Columbia  213.461353   45565.749398     10  \n",
       "Florida               126.324165   15957.794770    383  \n",
       "Georgia               283.026694   80104.109456    184  \n",
       "Idaho                  63.027976    3972.525785     21  \n",
       "Illinois              175.872237   30931.043652    491  \n",
       "Indiana               693.643105  481140.757367    149  \n",
       "Iowa                   73.763444    5441.045702     30  \n",
       "Kansas                 42.619311    1816.405680     24  \n",
       "Kentucky              171.126404   29284.246011    139  \n",
       "Louisiana              83.357777    6948.518922     42  \n",
       "Maine                  53.816911    2896.259868      8  \n",
       "Maryland              148.214655   21967.584011    105  \n",
       "Massachusetts          94.386407    8908.793776    135  \n",
       "Michigan              375.279834  140834.954100    254  \n",
       "Minnesota             505.784116  255817.572102     89  \n",
       "Mississippi            80.793505    6527.590392     53  \n",
       "Missouri              308.032711   94884.151220     66  \n",
       "Montana               350.364144  122755.033590     15  \n",
       "Nebraska              133.163393   17732.489334     38  \n",
       "Nevada                265.901543   70703.630825     39  \n",
       "New Hampshire         119.893107   14374.357098     27  \n",
       "New Jersey            236.387912   55879.245021    130  \n",
       "New Mexico             39.290011    1543.704967     37  \n",
       "New York              232.640276   54121.497857   1127  \n",
       "North Carolina        297.900997   88745.003951    249  \n",
       "North Dakota           58.123254    3378.312671      7  \n",
       "Ohio                  341.709917  116765.667104    468  \n",
       "Oklahoma              109.026519   11886.781743     66  \n",
       "Oregon                 74.744861    5586.794191    123  \n",
       "Pennsylvania          136.404709   18606.244705    586  \n",
       "Rhode Island          384.816449  148083.699355     56  \n",
       "South Carolina         73.698963    5431.537207     42  \n",
       "South Dakota           43.803938    1918.784959     12  \n",
       "Tennessee             176.636392   31200.415012    183  \n",
       "Texas                 189.207658   35799.538016    983  \n",
       "Utah                   83.929399    7044.143964     53  \n",
       "Vermont               301.653921   90995.087755     11  \n",
       "Virginia              235.266720   55350.429592    224  \n",
       "Washington            326.560751  106641.923823    502  \n",
       "West Virginia         125.265494   15691.444107      4  \n",
       "Wisconsin             124.946125   15611.534206    110  \n",
       "Wyoming                      NaN            NaN      1  "
      ]
     },
     "execution_count": 118,
     "metadata": {},
     "output_type": "execute_result"
    }
   ],
   "source": [
    "df.groupby(\"State\").Profit.agg([\"sum\",\"min\",\"max\",\"mean\",\"median\",\"std\",\"var\",\"count\"])"
   ]
  },
  {
   "attachments": {},
   "cell_type": "markdown",
   "id": "f315ece9",
   "metadata": {},
   "source": [
    "### Pairplot"
   ]
  },
  {
   "attachments": {},
   "cell_type": "markdown",
   "id": "3ee00013",
   "metadata": {},
   "source": [
    "### Boxplot"
   ]
  },
  {
   "cell_type": "code",
   "execution_count": 39,
   "id": "4f96ef3e",
   "metadata": {},
   "outputs": [
    {
     "name": "stderr",
     "output_type": "stream",
     "text": [
      "C:\\Users\\myasu\\anaconda3\\lib\\site-packages\\seaborn\\_decorators.py:36: FutureWarning: Pass the following variable as a keyword arg: x. From version 0.12, the only valid positional argument will be `data`, and passing other arguments without an explicit keyword will result in an error or misinterpretation.\n",
      "  warnings.warn(\n"
     ]
    },
    {
     "data": {
      "text/plain": [
       "<AxesSubplot:xlabel='Sales'>"
      ]
     },
     "execution_count": 39,
     "metadata": {},
     "output_type": "execute_result"
    },
    {
     "data": {
      "image/png": "[encoded data removed]",
      "text/plain": [
       "<Figure size 864x360 with 1 Axes>"
      ]
     },
     "metadata": {
      "needs_background": "light"
     },
     "output_type": "display_data"
    }
   ],
   "source": [
    "# Sales \n",
    "fig,axes=plt.subplots(figsize=(12,5))\n",
    "sns.boxplot(df[\"Sales\"])"
   ]
  },
  {
   "cell_type": "code",
   "execution_count": 40,
   "id": "9a85a249",
   "metadata": {},
   "outputs": [
    {
     "name": "stderr",
     "output_type": "stream",
     "text": [
      "C:\\Users\\myasu\\anaconda3\\lib\\site-packages\\seaborn\\_decorators.py:36: FutureWarning: Pass the following variable as a keyword arg: x. From version 0.12, the only valid positional argument will be `data`, and passing other arguments without an explicit keyword will result in an error or misinterpretation.\n",
      "  warnings.warn(\n"
     ]
    },
    {
     "data": {
      "text/plain": [
       "<AxesSubplot:xlabel='Discount'>"
      ]
     },
     "execution_count": 40,
     "metadata": {},
     "output_type": "execute_result"
    },
    {
     "data": {
      "image/png": "[encoded data removed]",
      "text/plain": [
       "<Figure size 864x432 with 1 Axes>"
      ]
     },
     "metadata": {
      "needs_background": "light"
     },
     "output_type": "display_data"
    }
   ],
   "source": [
    "# Discount \n",
    "fig,axes=plt.subplots(figsize=(12,6))\n",
    "sns.boxplot(df[\"Discount\"])"
   ]
  },
  {
   "cell_type": "code",
   "execution_count": 41,
   "id": "464f8491",
   "metadata": {},
   "outputs": [
    {
     "name": "stderr",
     "output_type": "stream",
     "text": [
      "C:\\Users\\myasu\\anaconda3\\lib\\site-packages\\seaborn\\_decorators.py:36: FutureWarning: Pass the following variable as a keyword arg: x. From version 0.12, the only valid positional argument will be `data`, and passing other arguments without an explicit keyword will result in an error or misinterpretation.\n",
      "  warnings.warn(\n"
     ]
    },
    {
     "data": {
      "text/plain": [
       "<AxesSubplot:xlabel='Profit'>"
      ]
     },
     "execution_count": 41,
     "metadata": {},
     "output_type": "execute_result"
    },
    {
     "data": {
      "image/png": "[encoded data removed]",
      "text/plain": [
       "<Figure size 936x504 with 1 Axes>"
      ]
     },
     "metadata": {
      "needs_background": "light"
     },
     "output_type": "display_data"
    }
   ],
   "source": [
    "# Profit Column\n",
    "fig,axes=plt.subplots(figsize=(13,7))\n",
    "sns.boxplot(df[\"Profit\"])"
   ]
  },
  {
   "attachments": {},
   "cell_type": "markdown",
   "id": "3e7b32d4",
   "metadata": {},
   "source": [
    "## conclusion\n",
    "Sales in Consumer segment is high but low in home office segment. Home office segment needs improvement in products which will boost sales.\n",
    "Copiers is the most profitable product. If copier sales will increase profit will also increase.\n",
    "West region has highest sales and profit .south region has more profit margin but has less sales. Sales could increase if more discount is given.\n",
    "Discount and profit is negatively related to each other .Discounts should only be given for limited period of time.\n",
    "Most of the product sold is under 10k .Highest profit is 8k and loss is 4k\n",
    "Marketing and discounts can boost sales in underperforming regions.\n"
   ]
  }
 ],
 "metadata": {
  "kernelspec": {
   "display_name": "Python 3 (ipykernel)",
   "language": "python",
   "name": "python3"
  },
  "language_info": {
   "codemirror_mode": {
    "name": "ipython",
    "version": 3
   },
   "file_extension": ".py",
   "mimetype": "text/x-python",
   "name": "python",
   "nbconvert_exporter": "python",
   "pygments_lexer": "ipython3",
   "version": "3.9.12"
  }
 },
 "nbformat": 4,
 "nbformat_minor": 5
}
